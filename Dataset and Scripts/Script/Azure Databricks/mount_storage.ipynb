{
 "cells": [
  {
   "cell_type": "code",
   "execution_count": 0,
   "metadata": {
    "application/vnd.databricks.v1+cell": {
     "cellMetadata": {
      "byteLimit": 2048000,
      "rowLimit": 10000
     },
     "inputWidgets": {},
     "nuid": "5e908a1d-32d1-4bdd-93f1-a3ba4d47420a",
     "showTitle": false,
     "title": ""
    }
   },
   "outputs": [],
   "source": [
    "# Mount following ADLS for simplified access\n",
    "storage_account_name = \"hungdvcovidreportingdl\"\n",
    "storage_account_key = \"6rpPCxsOvYgAS6KYNqMlHSGaaBT8CR7VbE7TXanN0TySEqGodVk69JRqDc2+/pwINt0pCkW+zpas+AStYLygLQ==\"\n",
    "\n",
    "# Set configurations\n",
    "spark.conf.set(f\"fs.azure.account.key.{storage_account_name}.dfs.core.windows.net\", storage_account_key)\n",
    "\n",
    "container_name_1 = \"raw\"\n",
    "container_name_2 = \"lookup\"\n",
    "container_name_3 = \"transformed\"\n",
    "\n",
    "df_raw_population = spark.read.csv(f\"abfss://{container_name_1}@{storage_account_name}.dfs.core.windows.net/population/population_age.tsv\", sep=r'\\t', header=True)\n",
    "df_dim_country = spark.read.csv(f\"abfss://{container_name_2}@{storage_account_name}.dfs.core.windows.net/look_up.csv\", sep=r',', header=True)\n"
   ]
  },
  {
   "cell_type": "code",
   "execution_count": 0,
   "metadata": {
    "application/vnd.databricks.v1+cell": {
     "cellMetadata": {
      "byteLimit": 2048000,
      "rowLimit": 10000
     },
     "inputWidgets": {},
     "nuid": "a5d07e3b-282b-4d1b-802f-d357f3cd7f49",
     "showTitle": false,
     "title": ""
    }
   },
   "outputs": [
    {
     "output_type": "display_data",
     "data": {
      "text/html": [
       "<style scoped>\n",
       "  .table-result-container {\n",
       "    max-height: 300px;\n",
       "    overflow: auto;\n",
       "  }\n",
       "  table, th, td {\n",
       "    border: 1px solid black;\n",
       "    border-collapse: collapse;\n",
       "  }\n",
       "  th, td {\n",
       "    padding: 5px;\n",
       "  }\n",
       "  th {\n",
       "    text-align: left;\n",
       "  }\n",
       "</style><div class='table-result-container'><table class='table-result'><thead style='background-color: white'><tr><th>indic_de,geo\\time</th><th>2008 </th><th>2009 </th><th>2010 </th><th>2011 </th><th>2012 </th><th>2013 </th><th>2014 </th><th>2015 </th><th>2016 </th><th>2017 </th><th>2018 </th><th>2019 </th></tr></thead><tbody><tr><td>PC_Y0_14,AD</td><td>14.6 </td><td>14.5 </td><td>14.5 </td><td>15.5 </td><td>15.5 </td><td>15.5 </td><td>: </td><td>: </td><td>: </td><td>: </td><td>: </td><td>13.9 </td></tr><tr><td>PC_Y0_14,AL</td><td>24.1 </td><td>23.3 </td><td>22.5 </td><td>21.6 </td><td>20.7 </td><td>20.1 </td><td>19.6 </td><td>19.0 </td><td>18.5 </td><td>18.2 </td><td>17.7 </td><td>17.2 </td></tr><tr><td>PC_Y0_14,AM</td><td>19.0 </td><td>18.6 </td><td>18.3 </td><td>: </td><td>: </td><td>: </td><td>: </td><td>19.4 </td><td>19.6 </td><td>20.0 </td><td>20.2 </td><td>20.2 </td></tr><tr><td>PC_Y0_14,AT</td><td>15.4 </td><td>15.1 </td><td>14.9 </td><td>14.7 </td><td>14.6 </td><td>14.4 </td><td>14.3 </td><td>14.3 </td><td>14.3 </td><td>14.4 </td><td>14.4 </td><td>14.4 </td></tr><tr><td>PC_Y0_14,AZ</td><td>23.2 </td><td>22.6 </td><td>22.6 </td><td>22.3 </td><td>22.2 </td><td>22.3 </td><td>22.4 </td><td>22.4 </td><td>22.5 </td><td>22.6 </td><td>22.6 </td><td>22.4 </td></tr></tbody></table></div>"
      ]
     },
     "metadata": {
      "application/vnd.databricks.v1+output": {
       "addedWidgets": {},
       "aggData": [],
       "aggError": "",
       "aggOverflow": false,
       "aggSchema": [],
       "aggSeriesLimitReached": false,
       "aggType": "",
       "arguments": {},
       "columnCustomDisplayInfos": {},
       "data": [
        [
         "PC_Y0_14,AD",
         "14.6 ",
         "14.5 ",
         "14.5 ",
         "15.5 ",
         "15.5 ",
         "15.5 ",
         ": ",
         ": ",
         ": ",
         ": ",
         ": ",
         "13.9 "
        ],
        [
         "PC_Y0_14,AL",
         "24.1 ",
         "23.3 ",
         "22.5 ",
         "21.6 ",
         "20.7 ",
         "20.1 ",
         "19.6 ",
         "19.0 ",
         "18.5 ",
         "18.2 ",
         "17.7 ",
         "17.2 "
        ],
        [
         "PC_Y0_14,AM",
         "19.0 ",
         "18.6 ",
         "18.3 ",
         ": ",
         ": ",
         ": ",
         ": ",
         "19.4 ",
         "19.6 ",
         "20.0 ",
         "20.2 ",
         "20.2 "
        ],
        [
         "PC_Y0_14,AT",
         "15.4 ",
         "15.1 ",
         "14.9 ",
         "14.7 ",
         "14.6 ",
         "14.4 ",
         "14.3 ",
         "14.3 ",
         "14.3 ",
         "14.4 ",
         "14.4 ",
         "14.4 "
        ],
        [
         "PC_Y0_14,AZ",
         "23.2 ",
         "22.6 ",
         "22.6 ",
         "22.3 ",
         "22.2 ",
         "22.3 ",
         "22.4 ",
         "22.4 ",
         "22.5 ",
         "22.6 ",
         "22.6 ",
         "22.4 "
        ]
       ],
       "datasetInfos": [],
       "dbfsResultPath": null,
       "isJsonSchema": true,
       "metadata": {},
       "overflow": false,
       "plotOptions": {
        "customPlotOptions": {},
        "displayType": "table",
        "pivotAggregation": null,
        "pivotColumns": null,
        "xColumns": null,
        "yColumns": null
       },
       "removedWidgets": [],
       "schema": [
        {
         "metadata": "{}",
         "name": "indic_de,geo\\time",
         "type": "\"string\""
        },
        {
         "metadata": "{}",
         "name": "2008 ",
         "type": "\"string\""
        },
        {
         "metadata": "{}",
         "name": "2009 ",
         "type": "\"string\""
        },
        {
         "metadata": "{}",
         "name": "2010 ",
         "type": "\"string\""
        },
        {
         "metadata": "{}",
         "name": "2011 ",
         "type": "\"string\""
        },
        {
         "metadata": "{}",
         "name": "2012 ",
         "type": "\"string\""
        },
        {
         "metadata": "{}",
         "name": "2013 ",
         "type": "\"string\""
        },
        {
         "metadata": "{}",
         "name": "2014 ",
         "type": "\"string\""
        },
        {
         "metadata": "{}",
         "name": "2015 ",
         "type": "\"string\""
        },
        {
         "metadata": "{}",
         "name": "2016 ",
         "type": "\"string\""
        },
        {
         "metadata": "{}",
         "name": "2017 ",
         "type": "\"string\""
        },
        {
         "metadata": "{}",
         "name": "2018 ",
         "type": "\"string\""
        },
        {
         "metadata": "{}",
         "name": "2019 ",
         "type": "\"string\""
        }
       ],
       "type": "table"
      }
     },
     "output_type": "display_data"
    }
   ],
   "source": [
    "display(df_raw_population.head(5))"
   ]
  },
  {
   "cell_type": "code",
   "execution_count": 0,
   "metadata": {
    "application/vnd.databricks.v1+cell": {
     "cellMetadata": {
      "byteLimit": 2048000,
      "rowLimit": 10000
     },
     "inputWidgets": {},
     "nuid": "03db318f-cf6d-406e-baac-57c2dc4888a7",
     "showTitle": false,
     "title": ""
    }
   },
   "outputs": [
    {
     "output_type": "display_data",
     "data": {
      "text/html": [
       "<style scoped>\n",
       "  .table-result-container {\n",
       "    max-height: 300px;\n",
       "    overflow: auto;\n",
       "  }\n",
       "  table, th, td {\n",
       "    border: 1px solid black;\n",
       "    border-collapse: collapse;\n",
       "  }\n",
       "  th, td {\n",
       "    padding: 5px;\n",
       "  }\n",
       "  th {\n",
       "    text-align: left;\n",
       "  }\n",
       "</style><div class='table-result-container'><table class='table-result'><thead style='background-color: white'><tr><th>country</th><th>country_code_2_digit</th><th>country_code_3_digit</th><th>continent</th><th>population</th></tr></thead><tbody><tr><td>Aruba</td><td>AW</td><td>ABW</td><td>America</td><td>106766</td></tr><tr><td>Afghanistan</td><td>AF</td><td>AFG</td><td>Asia</td><td>38928341</td></tr><tr><td>Angola</td><td>AO</td><td>AGO</td><td>Africa</td><td>32866268</td></tr><tr><td>Anguilla</td><td>AI</td><td>AIA</td><td>America</td><td>15002</td></tr><tr><td>Albania</td><td>AL</td><td>ALB</td><td>Europe</td><td>2862427</td></tr></tbody></table></div>"
      ]
     },
     "metadata": {
      "application/vnd.databricks.v1+output": {
       "addedWidgets": {},
       "aggData": [],
       "aggError": "",
       "aggOverflow": false,
       "aggSchema": [],
       "aggSeriesLimitReached": false,
       "aggType": "",
       "arguments": {},
       "columnCustomDisplayInfos": {},
       "data": [
        [
         "Aruba",
         "AW",
         "ABW",
         "America",
         "106766"
        ],
        [
         "Afghanistan",
         "AF",
         "AFG",
         "Asia",
         "38928341"
        ],
        [
         "Angola",
         "AO",
         "AGO",
         "Africa",
         "32866268"
        ],
        [
         "Anguilla",
         "AI",
         "AIA",
         "America",
         "15002"
        ],
        [
         "Albania",
         "AL",
         "ALB",
         "Europe",
         "2862427"
        ]
       ],
       "datasetInfos": [],
       "dbfsResultPath": null,
       "isJsonSchema": true,
       "metadata": {},
       "overflow": false,
       "plotOptions": {
        "customPlotOptions": {},
        "displayType": "table",
        "pivotAggregation": null,
        "pivotColumns": null,
        "xColumns": null,
        "yColumns": null
       },
       "removedWidgets": [],
       "schema": [
        {
         "metadata": "{}",
         "name": "country",
         "type": "\"string\""
        },
        {
         "metadata": "{}",
         "name": "country_code_2_digit",
         "type": "\"string\""
        },
        {
         "metadata": "{}",
         "name": "country_code_3_digit",
         "type": "\"string\""
        },
        {
         "metadata": "{}",
         "name": "continent",
         "type": "\"string\""
        },
        {
         "metadata": "{}",
         "name": "population",
         "type": "\"string\""
        }
       ],
       "type": "table"
      }
     },
     "output_type": "display_data"
    }
   ],
   "source": [
    "display(df_dim_country.head(5))"
   ]
  },
  {
   "cell_type": "code",
   "execution_count": 0,
   "metadata": {
    "application/vnd.databricks.v1+cell": {
     "cellMetadata": {
      "byteLimit": 2048000,
      "rowLimit": 10000
     },
     "inputWidgets": {},
     "nuid": "41827c17-a0bf-4dda-b74d-e0ba97852347",
     "showTitle": false,
     "title": ""
    }
   },
   "outputs": [],
   "source": [
    "from pyspark.sql.functions import *"
   ]
  },
  {
   "cell_type": "markdown",
   "metadata": {
    "application/vnd.databricks.v1+cell": {
     "cellMetadata": {},
     "inputWidgets": {},
     "nuid": "1ecf6027-1477-493b-bab4-0b1fb126b7ff",
     "showTitle": false,
     "title": ""
    }
   },
   "source": [
    "## Read the population data & create a temp view"
   ]
  },
  {
   "cell_type": "code",
   "execution_count": 0,
   "metadata": {
    "application/vnd.databricks.v1+cell": {
     "cellMetadata": {
      "byteLimit": 2048000,
      "rowLimit": 10000
     },
     "inputWidgets": {},
     "nuid": "148560bd-d364-43e8-abfe-bdc3f2495897",
     "showTitle": false,
     "title": ""
    }
   },
   "outputs": [],
   "source": [
    "raw_population = df_raw_population.withColumn(\n",
    "    'age_group', \n",
    "    regexp_replace(split(col('indic_de,geo\\\\time'), ',')[0], 'PC_', '')\n",
    ").withColumn(\n",
    "    'country_code', \n",
    "    split(col('indic_de,geo\\\\time'), ',')[1]\n",
    ")"
   ]
  },
  {
   "cell_type": "code",
   "execution_count": 0,
   "metadata": {
    "application/vnd.databricks.v1+cell": {
     "cellMetadata": {
      "byteLimit": 2048000,
      "rowLimit": 10000
     },
     "inputWidgets": {},
     "nuid": "bc0eba5f-404f-4572-92bf-23f2ee60bc3a",
     "showTitle": false,
     "title": ""
    }
   },
   "outputs": [
    {
     "output_type": "display_data",
     "data": {
      "text/html": [
       "<style scoped>\n",
       "  .table-result-container {\n",
       "    max-height: 300px;\n",
       "    overflow: auto;\n",
       "  }\n",
       "  table, th, td {\n",
       "    border: 1px solid black;\n",
       "    border-collapse: collapse;\n",
       "  }\n",
       "  th, td {\n",
       "    padding: 5px;\n",
       "  }\n",
       "  th {\n",
       "    text-align: left;\n",
       "  }\n",
       "</style><div class='table-result-container'><table class='table-result'><thead style='background-color: white'><tr><th>indic_de,geo\\time</th><th>2008 </th><th>2009 </th><th>2010 </th><th>2011 </th><th>2012 </th><th>2013 </th><th>2014 </th><th>2015 </th><th>2016 </th><th>2017 </th><th>2018 </th><th>2019 </th><th>age_group</th><th>country_code</th></tr></thead><tbody><tr><td>PC_Y0_14,AD</td><td>14.6 </td><td>14.5 </td><td>14.5 </td><td>15.5 </td><td>15.5 </td><td>15.5 </td><td>: </td><td>: </td><td>: </td><td>: </td><td>: </td><td>13.9 </td><td>Y0_14</td><td>AD</td></tr><tr><td>PC_Y0_14,AL</td><td>24.1 </td><td>23.3 </td><td>22.5 </td><td>21.6 </td><td>20.7 </td><td>20.1 </td><td>19.6 </td><td>19.0 </td><td>18.5 </td><td>18.2 </td><td>17.7 </td><td>17.2 </td><td>Y0_14</td><td>AL</td></tr><tr><td>PC_Y0_14,AM</td><td>19.0 </td><td>18.6 </td><td>18.3 </td><td>: </td><td>: </td><td>: </td><td>: </td><td>19.4 </td><td>19.6 </td><td>20.0 </td><td>20.2 </td><td>20.2 </td><td>Y0_14</td><td>AM</td></tr><tr><td>PC_Y0_14,AT</td><td>15.4 </td><td>15.1 </td><td>14.9 </td><td>14.7 </td><td>14.6 </td><td>14.4 </td><td>14.3 </td><td>14.3 </td><td>14.3 </td><td>14.4 </td><td>14.4 </td><td>14.4 </td><td>Y0_14</td><td>AT</td></tr><tr><td>PC_Y0_14,AZ</td><td>23.2 </td><td>22.6 </td><td>22.6 </td><td>22.3 </td><td>22.2 </td><td>22.3 </td><td>22.4 </td><td>22.4 </td><td>22.5 </td><td>22.6 </td><td>22.6 </td><td>22.4 </td><td>Y0_14</td><td>AZ</td></tr></tbody></table></div>"
      ]
     },
     "metadata": {
      "application/vnd.databricks.v1+output": {
       "addedWidgets": {},
       "aggData": [],
       "aggError": "",
       "aggOverflow": false,
       "aggSchema": [],
       "aggSeriesLimitReached": false,
       "aggType": "",
       "arguments": {},
       "columnCustomDisplayInfos": {},
       "data": [
        [
         "PC_Y0_14,AD",
         "14.6 ",
         "14.5 ",
         "14.5 ",
         "15.5 ",
         "15.5 ",
         "15.5 ",
         ": ",
         ": ",
         ": ",
         ": ",
         ": ",
         "13.9 ",
         "Y0_14",
         "AD"
        ],
        [
         "PC_Y0_14,AL",
         "24.1 ",
         "23.3 ",
         "22.5 ",
         "21.6 ",
         "20.7 ",
         "20.1 ",
         "19.6 ",
         "19.0 ",
         "18.5 ",
         "18.2 ",
         "17.7 ",
         "17.2 ",
         "Y0_14",
         "AL"
        ],
        [
         "PC_Y0_14,AM",
         "19.0 ",
         "18.6 ",
         "18.3 ",
         ": ",
         ": ",
         ": ",
         ": ",
         "19.4 ",
         "19.6 ",
         "20.0 ",
         "20.2 ",
         "20.2 ",
         "Y0_14",
         "AM"
        ],
        [
         "PC_Y0_14,AT",
         "15.4 ",
         "15.1 ",
         "14.9 ",
         "14.7 ",
         "14.6 ",
         "14.4 ",
         "14.3 ",
         "14.3 ",
         "14.3 ",
         "14.4 ",
         "14.4 ",
         "14.4 ",
         "Y0_14",
         "AT"
        ],
        [
         "PC_Y0_14,AZ",
         "23.2 ",
         "22.6 ",
         "22.6 ",
         "22.3 ",
         "22.2 ",
         "22.3 ",
         "22.4 ",
         "22.4 ",
         "22.5 ",
         "22.6 ",
         "22.6 ",
         "22.4 ",
         "Y0_14",
         "AZ"
        ]
       ],
       "datasetInfos": [],
       "dbfsResultPath": null,
       "isJsonSchema": true,
       "metadata": {},
       "overflow": false,
       "plotOptions": {
        "customPlotOptions": {},
        "displayType": "table",
        "pivotAggregation": null,
        "pivotColumns": null,
        "xColumns": null,
        "yColumns": null
       },
       "removedWidgets": [],
       "schema": [
        {
         "metadata": "{}",
         "name": "indic_de,geo\\time",
         "type": "\"string\""
        },
        {
         "metadata": "{}",
         "name": "2008 ",
         "type": "\"string\""
        },
        {
         "metadata": "{}",
         "name": "2009 ",
         "type": "\"string\""
        },
        {
         "metadata": "{}",
         "name": "2010 ",
         "type": "\"string\""
        },
        {
         "metadata": "{}",
         "name": "2011 ",
         "type": "\"string\""
        },
        {
         "metadata": "{}",
         "name": "2012 ",
         "type": "\"string\""
        },
        {
         "metadata": "{}",
         "name": "2013 ",
         "type": "\"string\""
        },
        {
         "metadata": "{}",
         "name": "2014 ",
         "type": "\"string\""
        },
        {
         "metadata": "{}",
         "name": "2015 ",
         "type": "\"string\""
        },
        {
         "metadata": "{}",
         "name": "2016 ",
         "type": "\"string\""
        },
        {
         "metadata": "{}",
         "name": "2017 ",
         "type": "\"string\""
        },
        {
         "metadata": "{}",
         "name": "2018 ",
         "type": "\"string\""
        },
        {
         "metadata": "{}",
         "name": "2019 ",
         "type": "\"string\""
        },
        {
         "metadata": "{}",
         "name": "age_group",
         "type": "\"string\""
        },
        {
         "metadata": "{}",
         "name": "country_code",
         "type": "\"string\""
        }
       ],
       "type": "table"
      }
     },
     "output_type": "display_data"
    }
   ],
   "source": [
    "display(raw_population.head(5))"
   ]
  },
  {
   "cell_type": "code",
   "execution_count": 0,
   "metadata": {
    "application/vnd.databricks.v1+cell": {
     "cellMetadata": {
      "byteLimit": 2048000,
      "rowLimit": 10000
     },
     "inputWidgets": {},
     "nuid": "a75aaa10-2a02-4ad2-b6f5-75e43a1f5cee",
     "showTitle": false,
     "title": ""
    }
   },
   "outputs": [],
   "source": [
    "raw_population = raw_population.select(col(\"country_code\").alias(\"country_code\"),\n",
    "                                             col(\"age_group\").alias(\"age_group\"),\n",
    "                                             col(\"2019 \").alias(\"percentage_2019\"))\n",
    "raw_population.createOrReplaceTempView(\"raw_population\")"
   ]
  },
  {
   "cell_type": "markdown",
   "metadata": {
    "application/vnd.databricks.v1+cell": {
     "cellMetadata": {},
     "inputWidgets": {},
     "nuid": "76a6ee12-d910-4973-b0ee-64e82fc030d8",
     "showTitle": false,
     "title": ""
    }
   },
   "source": [
    "Pivot the data by age group"
   ]
  },
  {
   "cell_type": "code",
   "execution_count": 0,
   "metadata": {
    "application/vnd.databricks.v1+cell": {
     "cellMetadata": {
      "byteLimit": 2048000,
      "rowLimit": 10000
     },
     "inputWidgets": {},
     "nuid": "f792b8c3-8696-4a5c-a864-b097a234ff4b",
     "showTitle": false,
     "title": ""
    }
   },
   "outputs": [],
   "source": [
    "# Create a data frame with pivoted percentages\n",
    "raw_population_pivot = spark.sql(\"SELECT country_code, age_group, cast(regexp_replace(percentage_2019, '[a-z]', '') AS decimal(4,2)) AS percentage_2019 FROM raw_population WHERE length(country_code) = 2\").groupBy(\"country_code\").pivot(\"age_group\").sum(\"percentage_2019\").orderBy(\"country_code\")\n",
    "raw_population_pivot.createOrReplaceTempView(\"raw_population_pivot\")"
   ]
  },
  {
   "cell_type": "code",
   "execution_count": 0,
   "metadata": {
    "application/vnd.databricks.v1+cell": {
     "cellMetadata": {
      "byteLimit": 2048000,
      "rowLimit": 10000
     },
     "inputWidgets": {},
     "nuid": "306e165e-6605-473f-9ec0-9ae05e40775e",
     "showTitle": false,
     "title": ""
    }
   },
   "outputs": [
    {
     "output_type": "display_data",
     "data": {
      "text/html": [
       "<style scoped>\n",
       "  .table-result-container {\n",
       "    max-height: 300px;\n",
       "    overflow: auto;\n",
       "  }\n",
       "  table, th, td {\n",
       "    border: 1px solid black;\n",
       "    border-collapse: collapse;\n",
       "  }\n",
       "  th, td {\n",
       "    padding: 5px;\n",
       "  }\n",
       "  th {\n",
       "    text-align: left;\n",
       "  }\n",
       "</style><div class='table-result-container'><table class='table-result'><thead style='background-color: white'><tr><th>country_code</th><th>age_group</th><th>percentage_2019</th></tr></thead><tbody><tr><td>AD</td><td>Y0_14</td><td>13.9 </td></tr><tr><td>AL</td><td>Y0_14</td><td>17.2 </td></tr><tr><td>AM</td><td>Y0_14</td><td>20.2 </td></tr><tr><td>AT</td><td>Y0_14</td><td>14.4 </td></tr><tr><td>AZ</td><td>Y0_14</td><td>22.4 </td></tr><tr><td>BE</td><td>Y0_14</td><td>16.9 </td></tr><tr><td>BG</td><td>Y0_14</td><td>14.4 </td></tr><tr><td>BY</td><td>Y0_14</td><td>16.9 </td></tr><tr><td>CH</td><td>Y0_14</td><td>15.0 </td></tr><tr><td>CY</td><td>Y0_14</td><td>16.1 </td></tr><tr><td>CZ</td><td>Y0_14</td><td>15.9 </td></tr><tr><td>DE</td><td>Y0_14</td><td>13.6 </td></tr><tr><td>DK</td><td>Y0_14</td><td>16.5 </td></tr><tr><td>EA18</td><td>Y0_14</td><td>15.0 p</td></tr><tr><td>EA19</td><td>Y0_14</td><td>15.0 p</td></tr><tr><td>EE</td><td>Y0_14</td><td>16.4 </td></tr><tr><td>EL</td><td>Y0_14</td><td>14.3 </td></tr><tr><td>ES</td><td>Y0_14</td><td>14.8 </td></tr><tr><td>EU27_2007</td><td>Y0_14</td><td>15.5 p</td></tr><tr><td>EU27_2020</td><td>Y0_14</td><td>15.2 p</td></tr><tr><td>EU28</td><td>Y0_14</td><td>15.5 p</td></tr><tr><td>FI</td><td>Y0_14</td><td>16.0 </td></tr><tr><td>FR</td><td>Y0_14</td><td>18.0 p</td></tr><tr><td>FX</td><td>Y0_14</td><td>: </td></tr><tr><td>GE</td><td>Y0_14</td><td>20.3 </td></tr><tr><td>HR</td><td>Y0_14</td><td>14.4 </td></tr><tr><td>HU</td><td>Y0_14</td><td>14.5 </td></tr><tr><td>IE</td><td>Y0_14</td><td>20.5 e</td></tr><tr><td>IS</td><td>Y0_14</td><td>19.0 </td></tr><tr><td>IT</td><td>Y0_14</td><td>13.2 </td></tr><tr><td>LI</td><td>Y0_14</td><td>14.7 </td></tr><tr><td>LT</td><td>Y0_14</td><td>15.1 </td></tr><tr><td>LU</td><td>Y0_14</td><td>16.1 </td></tr><tr><td>LV</td><td>Y0_14</td><td>15.9 </td></tr><tr><td>MD</td><td>Y0_14</td><td>: </td></tr><tr><td>ME</td><td>Y0_14</td><td>18.0 </td></tr><tr><td>MK</td><td>Y0_14</td><td>16.4 </td></tr><tr><td>MT</td><td>Y0_14</td><td>13.7 </td></tr><tr><td>NL</td><td>Y0_14</td><td>15.9 </td></tr><tr><td>NO</td><td>Y0_14</td><td>17.5 </td></tr><tr><td>PL</td><td>Y0_14</td><td>15.4 </td></tr><tr><td>PT</td><td>Y0_14</td><td>13.7 </td></tr><tr><td>RO</td><td>Y0_14</td><td>15.7 </td></tr><tr><td>RS</td><td>Y0_14</td><td>14.3 </td></tr><tr><td>RU</td><td>Y0_14</td><td>: </td></tr><tr><td>SE</td><td>Y0_14</td><td>17.8 </td></tr><tr><td>SI</td><td>Y0_14</td><td>15.1 </td></tr><tr><td>SK</td><td>Y0_14</td><td>15.7 </td></tr><tr><td>SM</td><td>Y0_14</td><td>: </td></tr><tr><td>TR</td><td>Y0_14</td><td>23.4 </td></tr><tr><td>UA</td><td>Y0_14</td><td>15.4 </td></tr><tr><td>UK</td><td>Y0_14</td><td>17.9 </td></tr><tr><td>XK</td><td>Y0_14</td><td>24.4 </td></tr><tr><td>AD</td><td>Y15_24</td><td>10.6 </td></tr><tr><td>AL</td><td>Y15_24</td><td>15.5 </td></tr><tr><td>AM</td><td>Y15_24</td><td>11.8 </td></tr><tr><td>AT</td><td>Y15_24</td><td>10.9 </td></tr><tr><td>AZ</td><td>Y15_24</td><td>14.1 </td></tr><tr><td>BE</td><td>Y15_24</td><td>11.4 </td></tr><tr><td>BG</td><td>Y15_24</td><td>8.9 </td></tr><tr><td>BY</td><td>Y15_24</td><td>9.9 </td></tr><tr><td>CH</td><td>Y15_24</td><td>10.6 </td></tr><tr><td>CY</td><td>Y15_24</td><td>12.8 </td></tr><tr><td>CZ</td><td>Y15_24</td><td>9.1 </td></tr><tr><td>DE</td><td>Y15_24</td><td>10.4 </td></tr><tr><td>DK</td><td>Y15_24</td><td>12.6 </td></tr><tr><td>EA18</td><td>Y15_24</td><td>10.6 p</td></tr><tr><td>EA19</td><td>Y15_24</td><td>10.6 p</td></tr><tr><td>EE</td><td>Y15_24</td><td>9.5 </td></tr><tr><td>EL</td><td>Y15_24</td><td>10.2 </td></tr><tr><td>ES</td><td>Y15_24</td><td>9.8 </td></tr><tr><td>EU27_2007</td><td>Y15_24</td><td>10.7 p</td></tr><tr><td>EU27_2020</td><td>Y15_24</td><td>10.6 p</td></tr><tr><td>EU28</td><td>Y15_24</td><td>10.7 p</td></tr><tr><td>FI</td><td>Y15_24</td><td>11.2 </td></tr><tr><td>FR</td><td>Y15_24</td><td>11.7 p</td></tr><tr><td>FX</td><td>Y15_24</td><td>: </td></tr><tr><td>GE</td><td>Y15_24</td><td>11.5 </td></tr><tr><td>HR</td><td>Y15_24</td><td>10.9 </td></tr><tr><td>HU</td><td>Y15_24</td><td>10.7 </td></tr><tr><td>IE</td><td>Y15_24</td><td>12.6 e</td></tr><tr><td>IS</td><td>Y15_24</td><td>13.4 </td></tr><tr><td>IT</td><td>Y15_24</td><td>9.8 </td></tr><tr><td>LI</td><td>Y15_24</td><td>10.9 </td></tr><tr><td>LT</td><td>Y15_24</td><td>10.5 </td></tr><tr><td>LU</td><td>Y15_24</td><td>11.6 </td></tr><tr><td>LV</td><td>Y15_24</td><td>9.2 </td></tr><tr><td>MD</td><td>Y15_24</td><td>: </td></tr><tr><td>ME</td><td>Y15_24</td><td>13.0 </td></tr><tr><td>MK</td><td>Y15_24</td><td>12.4 </td></tr><tr><td>MT</td><td>Y15_24</td><td>11.0 </td></tr><tr><td>NL</td><td>Y15_24</td><td>12.3 </td></tr><tr><td>NO</td><td>Y15_24</td><td>12.4 </td></tr><tr><td>PL</td><td>Y15_24</td><td>10.3 </td></tr><tr><td>PT</td><td>Y15_24</td><td>10.6 </td></tr><tr><td>RO</td><td>Y15_24</td><td>10.6 </td></tr><tr><td>RS</td><td>Y15_24</td><td>10.5 </td></tr><tr><td>RU</td><td>Y15_24</td><td>: </td></tr><tr><td>SE</td><td>Y15_24</td><td>11.3 </td></tr><tr><td>SI</td><td>Y15_24</td><td>9.4 </td></tr><tr><td>SK</td><td>Y15_24</td><td>10.4 </td></tr><tr><td>SM</td><td>Y15_24</td><td>: </td></tr><tr><td>TR</td><td>Y15_24</td><td>15.8 </td></tr><tr><td>UA</td><td>Y15_24</td><td>9.6 </td></tr><tr><td>UK</td><td>Y15_24</td><td>11.8 </td></tr><tr><td>XK</td><td>Y15_24</td><td>17.8 </td></tr><tr><td>AD</td><td>Y25_49</td><td>39.4 </td></tr><tr><td>AL</td><td>Y25_49</td><td>33.0 </td></tr><tr><td>AM</td><td>Y25_49</td><td>36.9 </td></tr><tr><td>AT</td><td>Y25_49</td><td>34.0 </td></tr><tr><td>AZ</td><td>Y25_49</td><td>39.1 </td></tr><tr><td>BE</td><td>Y25_49</td><td>32.7 </td></tr><tr><td>BG</td><td>Y25_49</td><td>35.0 </td></tr><tr><td>BY</td><td>Y25_49</td><td>36.6 </td></tr><tr><td>CH</td><td>Y25_49</td><td>35.0 </td></tr><tr><td>CY</td><td>Y25_49</td><td>37.1 </td></tr><tr><td>CZ</td><td>Y25_49</td><td>36.7 </td></tr><tr><td>DE</td><td>Y25_49</td><td>31.6 </td></tr><tr><td>DK</td><td>Y25_49</td><td>31.7 </td></tr><tr><td>EA18</td><td>Y25_49</td><td>32.4 p</td></tr><tr><td>EA19</td><td>Y25_49</td><td>32.6 p</td></tr><tr><td>EE</td><td>Y25_49</td><td>34.9 </td></tr><tr><td>EL</td><td>Y25_49</td><td>33.1 </td></tr><tr><td>ES</td><td>Y25_49</td><td>35.3 </td></tr><tr><td>EU27_2007</td><td>Y25_49</td><td>33.2 p</td></tr><tr><td>EU27_2020</td><td>Y25_49</td><td>33.3 p</td></tr><tr><td>EU28</td><td>Y25_49</td><td>33.2 p</td></tr><tr><td>FI</td><td>Y25_49</td><td>31.2 </td></tr><tr><td>FR</td><td>Y25_49</td><td>31.0 p</td></tr><tr><td>FX</td><td>Y25_49</td><td>: </td></tr><tr><td>GE</td><td>Y25_49</td><td>33.9 </td></tr><tr><td>HR</td><td>Y25_49</td><td>32.5 </td></tr><tr><td>HU</td><td>Y25_49</td><td>35.8 </td></tr><tr><td>IE</td><td>Y25_49</td><td>35.6 e</td></tr><tr><td>IS</td><td>Y25_49</td><td>35.5 </td></tr><tr><td>IT</td><td>Y25_49</td><td>32.4 </td></tr><tr><td>LI</td><td>Y25_49</td><td>33.3 </td></tr><tr><td>LT</td><td>Y25_49</td><td>32.7 </td></tr><tr><td>LU</td><td>Y25_49</td><td>38.2 </td></tr><tr><td>LV</td><td>Y25_49</td><td>33.8 </td></tr><tr><td>MD</td><td>Y25_49</td><td>: </td></tr><tr><td>ME</td><td>Y25_49</td><td>34.2 </td></tr><tr><td>MK</td><td>Y25_49</td><td>37.5 </td></tr><tr><td>MT</td><td>Y25_49</td><td>38.5 </td></tr><tr><td>NL</td><td>Y25_49</td><td>31.8 </td></tr><tr><td>NO</td><td>Y25_49</td><td>34.1 </td></tr><tr><td>PL</td><td>Y25_49</td><td>37.0 </td></tr><tr><td>PT</td><td>Y25_49</td><td>32.9 </td></tr><tr><td>RO</td><td>Y25_49</td><td>35.6 </td></tr><tr><td>RS</td><td>Y25_49</td><td>33.8 </td></tr><tr><td>RU</td><td>Y25_49</td><td>: </td></tr><tr><td>SE</td><td>Y25_49</td><td>32.9 </td></tr><tr><td>SI</td><td>Y25_49</td><td>34.1 </td></tr><tr><td>SK</td><td>Y25_49</td><td>38.1 </td></tr><tr><td>SM</td><td>Y25_49</td><td>: </td></tr><tr><td>TR</td><td>Y25_49</td><td>37.0 </td></tr><tr><td>UA</td><td>Y25_49</td><td>37.6 </td></tr><tr><td>UK</td><td>Y25_49</td><td>32.8 </td></tr><tr><td>XK</td><td>Y25_49</td><td>35.2 </td></tr><tr><td>AD</td><td>Y50_64</td><td>22.5 </td></tr><tr><td>AL</td><td>Y50_64</td><td>20.2 </td></tr><tr><td>AM</td><td>Y50_64</td><td>19.1 </td></tr><tr><td>AT</td><td>Y50_64</td><td>21.7 </td></tr><tr><td>AZ</td><td>Y50_64</td><td>17.6 </td></tr><tr><td>BE</td><td>Y50_64</td><td>20.1 </td></tr><tr><td>BG</td><td>Y50_64</td><td>20.4 </td></tr><tr><td>BY</td><td>Y50_64</td><td>21.3 </td></tr><tr><td>CH</td><td>Y50_64</td><td>20.9 </td></tr><tr><td>CY</td><td>Y50_64</td><td>17.9 </td></tr><tr><td>CZ</td><td>Y50_64</td><td>18.8 </td></tr><tr><td>DE</td><td>Y50_64</td><td>22.8 </td></tr><tr><td>DK</td><td>Y50_64</td><td>19.6 </td></tr><tr><td>EA18</td><td>Y50_64</td><td>20.9 p</td></tr><tr><td>EA19</td><td>Y50_64</td><td>21.1 p</td></tr><tr><td>EE</td><td>Y50_64</td><td>19.4 </td></tr><tr><td>EL</td><td>Y50_64</td><td>20.3 </td></tr><tr><td>ES</td><td>Y50_64</td><td>20.7 </td></tr><tr><td>EU27_2007</td><td>Y50_64</td><td>20.5 p</td></tr><tr><td>EU27_2020</td><td>Y50_64</td><td>20.7 p</td></tr><tr><td>EU28</td><td>Y50_64</td><td>20.5 p</td></tr><tr><td>FI</td><td>Y50_64</td><td>19.9 </td></tr><tr><td>FR</td><td>Y50_64</td><td>19.2 p</td></tr><tr><td>FX</td><td>Y50_64</td><td>: </td></tr><tr><td>GE</td><td>Y50_64</td><td>19.5 </td></tr><tr><td>HR</td><td>Y50_64</td><td>21.6 </td></tr><tr><td>HU</td><td>Y50_64</td><td>19.6 </td></tr><tr><td>IE</td><td>Y50_64</td><td>17.2 e</td></tr><tr><td>IS</td><td>Y50_64</td><td>17.9 </td></tr><tr><td>IT</td><td>Y50_64</td><td>21.9 </td></tr><tr><td>LI</td><td>Y50_64</td><td>23.2 </td></tr><tr><td>LT</td><td>Y50_64</td><td>21.9 </td></tr><tr><td>LU</td><td>Y50_64</td><td>19.8 </td></tr><tr><td>LV</td><td>Y50_64</td><td>20.9 </td></tr><tr><td>MD</td><td>Y50_64</td><td>: </td></tr><tr><td>ME</td><td>Y50_64</td><td>19.8 </td></tr><tr><td>MK</td><td>Y50_64</td><td>19.7 </td></tr><tr><td>MT</td><td>Y50_64</td><td>18.2 </td></tr><tr><td>NL</td><td>Y50_64</td><td>20.9 </td></tr><tr><td>NO</td><td>Y50_64</td><td>18.7 </td></tr><tr><td>PL</td><td>Y50_64</td><td>19.7 </td></tr><tr><td>PT</td><td>Y50_64</td><td>20.9 </td></tr><tr><td>RO</td><td>Y50_64</td><td>19.7 </td></tr><tr><td>RS</td><td>Y50_64</td><td>20.9 </td></tr><tr><td>RU</td><td>Y50_64</td><td>: </td></tr><tr><td>SE</td><td>Y50_64</td><td>18.1 </td></tr><tr><td>SI</td><td>Y50_64</td><td>21.6 </td></tr><tr><td>SK</td><td>Y50_64</td><td>19.7 </td></tr><tr><td>SM</td><td>Y50_64</td><td>: </td></tr><tr><td>TR</td><td>Y50_64</td><td>15.0 </td></tr><tr><td>UA</td><td>Y50_64</td><td>20.6 </td></tr><tr><td>UK</td><td>Y50_64</td><td>19.1 </td></tr><tr><td>XK</td><td>Y50_64</td><td>14.1 </td></tr><tr><td>AD</td><td>Y65_79</td><td>10.2 </td></tr><tr><td>AL</td><td>Y65_79</td><td>11.4 </td></tr><tr><td>AM</td><td>Y65_79</td><td>9.0 </td></tr><tr><td>AT</td><td>Y65_79</td><td>13.8 </td></tr><tr><td>AZ</td><td>Y65_79</td><td>5.3 </td></tr><tr><td>BE</td><td>Y65_79</td><td>13.3 </td></tr><tr><td>BG</td><td>Y65_79</td><td>16.5 </td></tr><tr><td>BY</td><td>Y65_79</td><td>11.3 </td></tr><tr><td>CH</td><td>Y65_79</td><td>13.3 </td></tr><tr><td>CY</td><td>Y65_79</td><td>12.5 </td></tr><tr><td>CZ</td><td>Y65_79</td><td>15.5 </td></tr><tr><td>DE</td><td>Y65_79</td><td>15.1 </td></tr><tr><td>DK</td><td>Y65_79</td><td>15.0 </td></tr><tr><td>EA18</td><td>Y65_79</td><td>14.4 p</td></tr><tr><td>EA19</td><td>Y65_79</td><td>14.5 p</td></tr><tr><td>EE</td><td>Y65_79</td><td>14.1 </td></tr><tr><td>EL</td><td>Y65_79</td><td>14.9 </td></tr><tr><td>ES</td><td>Y65_79</td><td>13.3 </td></tr><tr><td>EU27_2007</td><td>Y65_79</td><td>14.3 p</td></tr><tr><td>EU27_2020</td><td>Y65_79</td><td>14.4 p</td></tr><tr><td>EU28</td><td>Y65_79</td><td>14.3 p</td></tr><tr><td>FI</td><td>Y65_79</td><td>16.3 </td></tr><tr><td>FR</td><td>Y65_79</td><td>14.0 p</td></tr><tr><td>FX</td><td>Y65_79</td><td>: </td></tr><tr><td>GE</td><td>Y65_79</td><td>11.4 </td></tr><tr><td>HR</td><td>Y65_79</td><td>15.2 </td></tr><tr><td>HU</td><td>Y65_79</td><td>14.9 </td></tr><tr><td>IE</td><td>Y65_79</td><td>10.8 e</td></tr><tr><td>IS</td><td>Y65_79</td><td>10.7 </td></tr><tr><td>IT</td><td>Y65_79</td><td>15.7 </td></tr><tr><td>LI</td><td>Y65_79</td><td>14.1 </td></tr><tr><td>LT</td><td>Y65_79</td><td>14.0 </td></tr><tr><td>LU</td><td>Y65_79</td><td>10.4 </td></tr><tr><td>LV</td><td>Y65_79</td><td>14.7 </td></tr><tr><td>MD</td><td>Y65_79</td><td>: </td></tr><tr><td>ME</td><td>Y65_79</td><td>11.9 </td></tr><tr><td>MK</td><td>Y65_79</td><td>11.5 </td></tr><tr><td>MT</td><td>Y65_79</td><td>14.5 </td></tr><tr><td>NL</td><td>Y65_79</td><td>14.6 </td></tr><tr><td>NO</td><td>Y65_79</td><td>13.0 </td></tr><tr><td>PL</td><td>Y65_79</td><td>13.3 </td></tr><tr><td>PT</td><td>Y65_79</td><td>15.4 </td></tr><tr><td>RO</td><td>Y65_79</td><td>13.9 </td></tr><tr><td>RS</td><td>Y65_79</td><td>15.8 </td></tr><tr><td>RU</td><td>Y65_79</td><td>: </td></tr><tr><td>SE</td><td>Y65_79</td><td>14.8 </td></tr><tr><td>SI</td><td>Y65_79</td><td>14.5 </td></tr><tr><td>SK</td><td>Y65_79</td><td>12.7 </td></tr><tr><td>SM</td><td>Y65_79</td><td>: </td></tr><tr><td>TR</td><td>Y65_79</td><td>7.0 </td></tr><tr><td>UA</td><td>Y65_79</td><td>12.5 </td></tr><tr><td>UK</td><td>Y65_79</td><td>13.4 </td></tr><tr><td>XK</td><td>Y65_79</td><td>6.8 </td></tr><tr><td>AD</td><td>Y80_MAX</td><td>3.4 </td></tr><tr><td>AL</td><td>Y80_MAX</td><td>2.7 </td></tr><tr><td>AM</td><td>Y80_MAX</td><td>3.0 </td></tr><tr><td>AT</td><td>Y80_MAX</td><td>5.0 </td></tr><tr><td>AZ</td><td>Y80_MAX</td><td>1.5 </td></tr><tr><td>BE</td><td>Y80_MAX</td><td>5.6 </td></tr><tr><td>BG</td><td>Y80_MAX</td><td>4.8 </td></tr><tr><td>BY</td><td>Y80_MAX</td><td>3.9 </td></tr><tr><td>CH</td><td>Y80_MAX</td><td>5.2 </td></tr><tr><td>CY</td><td>Y80_MAX</td><td>3.7 </td></tr><tr><td>CZ</td><td>Y80_MAX</td><td>4.1 </td></tr><tr><td>DE</td><td>Y80_MAX</td><td>6.5 </td></tr><tr><td>DK</td><td>Y80_MAX</td><td>4.5 </td></tr><tr><td>EA18</td><td>Y80_MAX</td><td>6.2 p</td></tr><tr><td>EA19</td><td>Y80_MAX</td><td>6.2 p</td></tr><tr><td>EE</td><td>Y80_MAX</td><td>5.6 </td></tr><tr><td>EL</td><td>Y80_MAX</td><td>7.1 </td></tr><tr><td>ES</td><td>Y80_MAX</td><td>6.1 </td></tr><tr><td>EU27_2007</td><td>Y80_MAX</td><td>5.7 p</td></tr><tr><td>EU27_2020</td><td>Y80_MAX</td><td>5.8 p</td></tr><tr><td>EU28</td><td>Y80_MAX</td><td>5.7 p</td></tr><tr><td>FI</td><td>Y80_MAX</td><td>5.5 </td></tr><tr><td>FR</td><td>Y80_MAX</td><td>6.1 p</td></tr><tr><td>FX</td><td>Y80_MAX</td><td>: </td></tr><tr><td>GE</td><td>Y80_MAX</td><td>3.5 </td></tr><tr><td>HR</td><td>Y80_MAX</td><td>5.3 </td></tr><tr><td>HU</td><td>Y80_MAX</td><td>4.4 </td></tr><tr><td>IE</td><td>Y80_MAX</td><td>3.3 e</td></tr><tr><td>IS</td><td>Y80_MAX</td><td>3.5 </td></tr><tr><td>IT</td><td>Y80_MAX</td><td>7.2 </td></tr><tr><td>LI</td><td>Y80_MAX</td><td>3.8 </td></tr><tr><td>LT</td><td>Y80_MAX</td><td>5.8 </td></tr><tr><td>LU</td><td>Y80_MAX</td><td>4.0 </td></tr><tr><td>LV</td><td>Y80_MAX</td><td>5.6 </td></tr><tr><td>MD</td><td>Y80_MAX</td><td>: </td></tr><tr><td>ME</td><td>Y80_MAX</td><td>3.3 </td></tr><tr><td>MK</td><td>Y80_MAX</td><td>2.5 </td></tr><tr><td>MT</td><td>Y80_MAX</td><td>4.2 </td></tr><tr><td>NL</td><td>Y80_MAX</td><td>4.6 </td></tr><tr><td>NO</td><td>Y80_MAX</td><td>4.2 </td></tr><tr><td>PL</td><td>Y80_MAX</td><td>4.4 </td></tr><tr><td>PT</td><td>Y80_MAX</td><td>6.4 </td></tr><tr><td>RO</td><td>Y80_MAX</td><td>4.7 </td></tr><tr><td>RS</td><td>Y80_MAX</td><td>4.6 </td></tr><tr><td>RU</td><td>Y80_MAX</td><td>: </td></tr><tr><td>SE</td><td>Y80_MAX</td><td>5.1 </td></tr><tr><td>SI</td><td>Y80_MAX</td><td>5.3 </td></tr><tr><td>SK</td><td>Y80_MAX</td><td>3.3 </td></tr><tr><td>SM</td><td>Y80_MAX</td><td>: </td></tr><tr><td>TR</td><td>Y80_MAX</td><td>1.8 </td></tr><tr><td>UA</td><td>Y80_MAX</td><td>4.3 </td></tr><tr><td>UK</td><td>Y80_MAX</td><td>5.0 </td></tr><tr><td>XK</td><td>Y80_MAX</td><td>1.8 </td></tr></tbody></table></div>"
      ]
     },
     "metadata": {
      "application/vnd.databricks.v1+output": {
       "addedWidgets": {},
       "aggData": [],
       "aggError": "",
       "aggOverflow": false,
       "aggSchema": [],
       "aggSeriesLimitReached": false,
       "aggType": "",
       "arguments": {},
       "columnCustomDisplayInfos": {},
       "data": [
        [
         "AD",
         "Y0_14",
         "13.9 "
        ],
        [
         "AL",
         "Y0_14",
         "17.2 "
        ],
        [
         "AM",
         "Y0_14",
         "20.2 "
        ],
        [
         "AT",
         "Y0_14",
         "14.4 "
        ],
        [
         "AZ",
         "Y0_14",
         "22.4 "
        ],
        [
         "BE",
         "Y0_14",
         "16.9 "
        ],
        [
         "BG",
         "Y0_14",
         "14.4 "
        ],
        [
         "BY",
         "Y0_14",
         "16.9 "
        ],
        [
         "CH",
         "Y0_14",
         "15.0 "
        ],
        [
         "CY",
         "Y0_14",
         "16.1 "
        ],
        [
         "CZ",
         "Y0_14",
         "15.9 "
        ],
        [
         "DE",
         "Y0_14",
         "13.6 "
        ],
        [
         "DK",
         "Y0_14",
         "16.5 "
        ],
        [
         "EA18",
         "Y0_14",
         "15.0 p"
        ],
        [
         "EA19",
         "Y0_14",
         "15.0 p"
        ],
        [
         "EE",
         "Y0_14",
         "16.4 "
        ],
        [
         "EL",
         "Y0_14",
         "14.3 "
        ],
        [
         "ES",
         "Y0_14",
         "14.8 "
        ],
        [
         "EU27_2007",
         "Y0_14",
         "15.5 p"
        ],
        [
         "EU27_2020",
         "Y0_14",
         "15.2 p"
        ],
        [
         "EU28",
         "Y0_14",
         "15.5 p"
        ],
        [
         "FI",
         "Y0_14",
         "16.0 "
        ],
        [
         "FR",
         "Y0_14",
         "18.0 p"
        ],
        [
         "FX",
         "Y0_14",
         ": "
        ],
        [
         "GE",
         "Y0_14",
         "20.3 "
        ],
        [
         "HR",
         "Y0_14",
         "14.4 "
        ],
        [
         "HU",
         "Y0_14",
         "14.5 "
        ],
        [
         "IE",
         "Y0_14",
         "20.5 e"
        ],
        [
         "IS",
         "Y0_14",
         "19.0 "
        ],
        [
         "IT",
         "Y0_14",
         "13.2 "
        ],
        [
         "LI",
         "Y0_14",
         "14.7 "
        ],
        [
         "LT",
         "Y0_14",
         "15.1 "
        ],
        [
         "LU",
         "Y0_14",
         "16.1 "
        ],
        [
         "LV",
         "Y0_14",
         "15.9 "
        ],
        [
         "MD",
         "Y0_14",
         ": "
        ],
        [
         "ME",
         "Y0_14",
         "18.0 "
        ],
        [
         "MK",
         "Y0_14",
         "16.4 "
        ],
        [
         "MT",
         "Y0_14",
         "13.7 "
        ],
        [
         "NL",
         "Y0_14",
         "15.9 "
        ],
        [
         "NO",
         "Y0_14",
         "17.5 "
        ],
        [
         "PL",
         "Y0_14",
         "15.4 "
        ],
        [
         "PT",
         "Y0_14",
         "13.7 "
        ],
        [
         "RO",
         "Y0_14",
         "15.7 "
        ],
        [
         "RS",
         "Y0_14",
         "14.3 "
        ],
        [
         "RU",
         "Y0_14",
         ": "
        ],
        [
         "SE",
         "Y0_14",
         "17.8 "
        ],
        [
         "SI",
         "Y0_14",
         "15.1 "
        ],
        [
         "SK",
         "Y0_14",
         "15.7 "
        ],
        [
         "SM",
         "Y0_14",
         ": "
        ],
        [
         "TR",
         "Y0_14",
         "23.4 "
        ],
        [
         "UA",
         "Y0_14",
         "15.4 "
        ],
        [
         "UK",
         "Y0_14",
         "17.9 "
        ],
        [
         "XK",
         "Y0_14",
         "24.4 "
        ],
        [
         "AD",
         "Y15_24",
         "10.6 "
        ],
        [
         "AL",
         "Y15_24",
         "15.5 "
        ],
        [
         "AM",
         "Y15_24",
         "11.8 "
        ],
        [
         "AT",
         "Y15_24",
         "10.9 "
        ],
        [
         "AZ",
         "Y15_24",
         "14.1 "
        ],
        [
         "BE",
         "Y15_24",
         "11.4 "
        ],
        [
         "BG",
         "Y15_24",
         "8.9 "
        ],
        [
         "BY",
         "Y15_24",
         "9.9 "
        ],
        [
         "CH",
         "Y15_24",
         "10.6 "
        ],
        [
         "CY",
         "Y15_24",
         "12.8 "
        ],
        [
         "CZ",
         "Y15_24",
         "9.1 "
        ],
        [
         "DE",
         "Y15_24",
         "10.4 "
        ],
        [
         "DK",
         "Y15_24",
         "12.6 "
        ],
        [
         "EA18",
         "Y15_24",
         "10.6 p"
        ],
        [
         "EA19",
         "Y15_24",
         "10.6 p"
        ],
        [
         "EE",
         "Y15_24",
         "9.5 "
        ],
        [
         "EL",
         "Y15_24",
         "10.2 "
        ],
        [
         "ES",
         "Y15_24",
         "9.8 "
        ],
        [
         "EU27_2007",
         "Y15_24",
         "10.7 p"
        ],
        [
         "EU27_2020",
         "Y15_24",
         "10.6 p"
        ],
        [
         "EU28",
         "Y15_24",
         "10.7 p"
        ],
        [
         "FI",
         "Y15_24",
         "11.2 "
        ],
        [
         "FR",
         "Y15_24",
         "11.7 p"
        ],
        [
         "FX",
         "Y15_24",
         ": "
        ],
        [
         "GE",
         "Y15_24",
         "11.5 "
        ],
        [
         "HR",
         "Y15_24",
         "10.9 "
        ],
        [
         "HU",
         "Y15_24",
         "10.7 "
        ],
        [
         "IE",
         "Y15_24",
         "12.6 e"
        ],
        [
         "IS",
         "Y15_24",
         "13.4 "
        ],
        [
         "IT",
         "Y15_24",
         "9.8 "
        ],
        [
         "LI",
         "Y15_24",
         "10.9 "
        ],
        [
         "LT",
         "Y15_24",
         "10.5 "
        ],
        [
         "LU",
         "Y15_24",
         "11.6 "
        ],
        [
         "LV",
         "Y15_24",
         "9.2 "
        ],
        [
         "MD",
         "Y15_24",
         ": "
        ],
        [
         "ME",
         "Y15_24",
         "13.0 "
        ],
        [
         "MK",
         "Y15_24",
         "12.4 "
        ],
        [
         "MT",
         "Y15_24",
         "11.0 "
        ],
        [
         "NL",
         "Y15_24",
         "12.3 "
        ],
        [
         "NO",
         "Y15_24",
         "12.4 "
        ],
        [
         "PL",
         "Y15_24",
         "10.3 "
        ],
        [
         "PT",
         "Y15_24",
         "10.6 "
        ],
        [
         "RO",
         "Y15_24",
         "10.6 "
        ],
        [
         "RS",
         "Y15_24",
         "10.5 "
        ],
        [
         "RU",
         "Y15_24",
         ": "
        ],
        [
         "SE",
         "Y15_24",
         "11.3 "
        ],
        [
         "SI",
         "Y15_24",
         "9.4 "
        ],
        [
         "SK",
         "Y15_24",
         "10.4 "
        ],
        [
         "SM",
         "Y15_24",
         ": "
        ],
        [
         "TR",
         "Y15_24",
         "15.8 "
        ],
        [
         "UA",
         "Y15_24",
         "9.6 "
        ],
        [
         "UK",
         "Y15_24",
         "11.8 "
        ],
        [
         "XK",
         "Y15_24",
         "17.8 "
        ],
        [
         "AD",
         "Y25_49",
         "39.4 "
        ],
        [
         "AL",
         "Y25_49",
         "33.0 "
        ],
        [
         "AM",
         "Y25_49",
         "36.9 "
        ],
        [
         "AT",
         "Y25_49",
         "34.0 "
        ],
        [
         "AZ",
         "Y25_49",
         "39.1 "
        ],
        [
         "BE",
         "Y25_49",
         "32.7 "
        ],
        [
         "BG",
         "Y25_49",
         "35.0 "
        ],
        [
         "BY",
         "Y25_49",
         "36.6 "
        ],
        [
         "CH",
         "Y25_49",
         "35.0 "
        ],
        [
         "CY",
         "Y25_49",
         "37.1 "
        ],
        [
         "CZ",
         "Y25_49",
         "36.7 "
        ],
        [
         "DE",
         "Y25_49",
         "31.6 "
        ],
        [
         "DK",
         "Y25_49",
         "31.7 "
        ],
        [
         "EA18",
         "Y25_49",
         "32.4 p"
        ],
        [
         "EA19",
         "Y25_49",
         "32.6 p"
        ],
        [
         "EE",
         "Y25_49",
         "34.9 "
        ],
        [
         "EL",
         "Y25_49",
         "33.1 "
        ],
        [
         "ES",
         "Y25_49",
         "35.3 "
        ],
        [
         "EU27_2007",
         "Y25_49",
         "33.2 p"
        ],
        [
         "EU27_2020",
         "Y25_49",
         "33.3 p"
        ],
        [
         "EU28",
         "Y25_49",
         "33.2 p"
        ],
        [
         "FI",
         "Y25_49",
         "31.2 "
        ],
        [
         "FR",
         "Y25_49",
         "31.0 p"
        ],
        [
         "FX",
         "Y25_49",
         ": "
        ],
        [
         "GE",
         "Y25_49",
         "33.9 "
        ],
        [
         "HR",
         "Y25_49",
         "32.5 "
        ],
        [
         "HU",
         "Y25_49",
         "35.8 "
        ],
        [
         "IE",
         "Y25_49",
         "35.6 e"
        ],
        [
         "IS",
         "Y25_49",
         "35.5 "
        ],
        [
         "IT",
         "Y25_49",
         "32.4 "
        ],
        [
         "LI",
         "Y25_49",
         "33.3 "
        ],
        [
         "LT",
         "Y25_49",
         "32.7 "
        ],
        [
         "LU",
         "Y25_49",
         "38.2 "
        ],
        [
         "LV",
         "Y25_49",
         "33.8 "
        ],
        [
         "MD",
         "Y25_49",
         ": "
        ],
        [
         "ME",
         "Y25_49",
         "34.2 "
        ],
        [
         "MK",
         "Y25_49",
         "37.5 "
        ],
        [
         "MT",
         "Y25_49",
         "38.5 "
        ],
        [
         "NL",
         "Y25_49",
         "31.8 "
        ],
        [
         "NO",
         "Y25_49",
         "34.1 "
        ],
        [
         "PL",
         "Y25_49",
         "37.0 "
        ],
        [
         "PT",
         "Y25_49",
         "32.9 "
        ],
        [
         "RO",
         "Y25_49",
         "35.6 "
        ],
        [
         "RS",
         "Y25_49",
         "33.8 "
        ],
        [
         "RU",
         "Y25_49",
         ": "
        ],
        [
         "SE",
         "Y25_49",
         "32.9 "
        ],
        [
         "SI",
         "Y25_49",
         "34.1 "
        ],
        [
         "SK",
         "Y25_49",
         "38.1 "
        ],
        [
         "SM",
         "Y25_49",
         ": "
        ],
        [
         "TR",
         "Y25_49",
         "37.0 "
        ],
        [
         "UA",
         "Y25_49",
         "37.6 "
        ],
        [
         "UK",
         "Y25_49",
         "32.8 "
        ],
        [
         "XK",
         "Y25_49",
         "35.2 "
        ],
        [
         "AD",
         "Y50_64",
         "22.5 "
        ],
        [
         "AL",
         "Y50_64",
         "20.2 "
        ],
        [
         "AM",
         "Y50_64",
         "19.1 "
        ],
        [
         "AT",
         "Y50_64",
         "21.7 "
        ],
        [
         "AZ",
         "Y50_64",
         "17.6 "
        ],
        [
         "BE",
         "Y50_64",
         "20.1 "
        ],
        [
         "BG",
         "Y50_64",
         "20.4 "
        ],
        [
         "BY",
         "Y50_64",
         "21.3 "
        ],
        [
         "CH",
         "Y50_64",
         "20.9 "
        ],
        [
         "CY",
         "Y50_64",
         "17.9 "
        ],
        [
         "CZ",
         "Y50_64",
         "18.8 "
        ],
        [
         "DE",
         "Y50_64",
         "22.8 "
        ],
        [
         "DK",
         "Y50_64",
         "19.6 "
        ],
        [
         "EA18",
         "Y50_64",
         "20.9 p"
        ],
        [
         "EA19",
         "Y50_64",
         "21.1 p"
        ],
        [
         "EE",
         "Y50_64",
         "19.4 "
        ],
        [
         "EL",
         "Y50_64",
         "20.3 "
        ],
        [
         "ES",
         "Y50_64",
         "20.7 "
        ],
        [
         "EU27_2007",
         "Y50_64",
         "20.5 p"
        ],
        [
         "EU27_2020",
         "Y50_64",
         "20.7 p"
        ],
        [
         "EU28",
         "Y50_64",
         "20.5 p"
        ],
        [
         "FI",
         "Y50_64",
         "19.9 "
        ],
        [
         "FR",
         "Y50_64",
         "19.2 p"
        ],
        [
         "FX",
         "Y50_64",
         ": "
        ],
        [
         "GE",
         "Y50_64",
         "19.5 "
        ],
        [
         "HR",
         "Y50_64",
         "21.6 "
        ],
        [
         "HU",
         "Y50_64",
         "19.6 "
        ],
        [
         "IE",
         "Y50_64",
         "17.2 e"
        ],
        [
         "IS",
         "Y50_64",
         "17.9 "
        ],
        [
         "IT",
         "Y50_64",
         "21.9 "
        ],
        [
         "LI",
         "Y50_64",
         "23.2 "
        ],
        [
         "LT",
         "Y50_64",
         "21.9 "
        ],
        [
         "LU",
         "Y50_64",
         "19.8 "
        ],
        [
         "LV",
         "Y50_64",
         "20.9 "
        ],
        [
         "MD",
         "Y50_64",
         ": "
        ],
        [
         "ME",
         "Y50_64",
         "19.8 "
        ],
        [
         "MK",
         "Y50_64",
         "19.7 "
        ],
        [
         "MT",
         "Y50_64",
         "18.2 "
        ],
        [
         "NL",
         "Y50_64",
         "20.9 "
        ],
        [
         "NO",
         "Y50_64",
         "18.7 "
        ],
        [
         "PL",
         "Y50_64",
         "19.7 "
        ],
        [
         "PT",
         "Y50_64",
         "20.9 "
        ],
        [
         "RO",
         "Y50_64",
         "19.7 "
        ],
        [
         "RS",
         "Y50_64",
         "20.9 "
        ],
        [
         "RU",
         "Y50_64",
         ": "
        ],
        [
         "SE",
         "Y50_64",
         "18.1 "
        ],
        [
         "SI",
         "Y50_64",
         "21.6 "
        ],
        [
         "SK",
         "Y50_64",
         "19.7 "
        ],
        [
         "SM",
         "Y50_64",
         ": "
        ],
        [
         "TR",
         "Y50_64",
         "15.0 "
        ],
        [
         "UA",
         "Y50_64",
         "20.6 "
        ],
        [
         "UK",
         "Y50_64",
         "19.1 "
        ],
        [
         "XK",
         "Y50_64",
         "14.1 "
        ],
        [
         "AD",
         "Y65_79",
         "10.2 "
        ],
        [
         "AL",
         "Y65_79",
         "11.4 "
        ],
        [
         "AM",
         "Y65_79",
         "9.0 "
        ],
        [
         "AT",
         "Y65_79",
         "13.8 "
        ],
        [
         "AZ",
         "Y65_79",
         "5.3 "
        ],
        [
         "BE",
         "Y65_79",
         "13.3 "
        ],
        [
         "BG",
         "Y65_79",
         "16.5 "
        ],
        [
         "BY",
         "Y65_79",
         "11.3 "
        ],
        [
         "CH",
         "Y65_79",
         "13.3 "
        ],
        [
         "CY",
         "Y65_79",
         "12.5 "
        ],
        [
         "CZ",
         "Y65_79",
         "15.5 "
        ],
        [
         "DE",
         "Y65_79",
         "15.1 "
        ],
        [
         "DK",
         "Y65_79",
         "15.0 "
        ],
        [
         "EA18",
         "Y65_79",
         "14.4 p"
        ],
        [
         "EA19",
         "Y65_79",
         "14.5 p"
        ],
        [
         "EE",
         "Y65_79",
         "14.1 "
        ],
        [
         "EL",
         "Y65_79",
         "14.9 "
        ],
        [
         "ES",
         "Y65_79",
         "13.3 "
        ],
        [
         "EU27_2007",
         "Y65_79",
         "14.3 p"
        ],
        [
         "EU27_2020",
         "Y65_79",
         "14.4 p"
        ],
        [
         "EU28",
         "Y65_79",
         "14.3 p"
        ],
        [
         "FI",
         "Y65_79",
         "16.3 "
        ],
        [
         "FR",
         "Y65_79",
         "14.0 p"
        ],
        [
         "FX",
         "Y65_79",
         ": "
        ],
        [
         "GE",
         "Y65_79",
         "11.4 "
        ],
        [
         "HR",
         "Y65_79",
         "15.2 "
        ],
        [
         "HU",
         "Y65_79",
         "14.9 "
        ],
        [
         "IE",
         "Y65_79",
         "10.8 e"
        ],
        [
         "IS",
         "Y65_79",
         "10.7 "
        ],
        [
         "IT",
         "Y65_79",
         "15.7 "
        ],
        [
         "LI",
         "Y65_79",
         "14.1 "
        ],
        [
         "LT",
         "Y65_79",
         "14.0 "
        ],
        [
         "LU",
         "Y65_79",
         "10.4 "
        ],
        [
         "LV",
         "Y65_79",
         "14.7 "
        ],
        [
         "MD",
         "Y65_79",
         ": "
        ],
        [
         "ME",
         "Y65_79",
         "11.9 "
        ],
        [
         "MK",
         "Y65_79",
         "11.5 "
        ],
        [
         "MT",
         "Y65_79",
         "14.5 "
        ],
        [
         "NL",
         "Y65_79",
         "14.6 "
        ],
        [
         "NO",
         "Y65_79",
         "13.0 "
        ],
        [
         "PL",
         "Y65_79",
         "13.3 "
        ],
        [
         "PT",
         "Y65_79",
         "15.4 "
        ],
        [
         "RO",
         "Y65_79",
         "13.9 "
        ],
        [
         "RS",
         "Y65_79",
         "15.8 "
        ],
        [
         "RU",
         "Y65_79",
         ": "
        ],
        [
         "SE",
         "Y65_79",
         "14.8 "
        ],
        [
         "SI",
         "Y65_79",
         "14.5 "
        ],
        [
         "SK",
         "Y65_79",
         "12.7 "
        ],
        [
         "SM",
         "Y65_79",
         ": "
        ],
        [
         "TR",
         "Y65_79",
         "7.0 "
        ],
        [
         "UA",
         "Y65_79",
         "12.5 "
        ],
        [
         "UK",
         "Y65_79",
         "13.4 "
        ],
        [
         "XK",
         "Y65_79",
         "6.8 "
        ],
        [
         "AD",
         "Y80_MAX",
         "3.4 "
        ],
        [
         "AL",
         "Y80_MAX",
         "2.7 "
        ],
        [
         "AM",
         "Y80_MAX",
         "3.0 "
        ],
        [
         "AT",
         "Y80_MAX",
         "5.0 "
        ],
        [
         "AZ",
         "Y80_MAX",
         "1.5 "
        ],
        [
         "BE",
         "Y80_MAX",
         "5.6 "
        ],
        [
         "BG",
         "Y80_MAX",
         "4.8 "
        ],
        [
         "BY",
         "Y80_MAX",
         "3.9 "
        ],
        [
         "CH",
         "Y80_MAX",
         "5.2 "
        ],
        [
         "CY",
         "Y80_MAX",
         "3.7 "
        ],
        [
         "CZ",
         "Y80_MAX",
         "4.1 "
        ],
        [
         "DE",
         "Y80_MAX",
         "6.5 "
        ],
        [
         "DK",
         "Y80_MAX",
         "4.5 "
        ],
        [
         "EA18",
         "Y80_MAX",
         "6.2 p"
        ],
        [
         "EA19",
         "Y80_MAX",
         "6.2 p"
        ],
        [
         "EE",
         "Y80_MAX",
         "5.6 "
        ],
        [
         "EL",
         "Y80_MAX",
         "7.1 "
        ],
        [
         "ES",
         "Y80_MAX",
         "6.1 "
        ],
        [
         "EU27_2007",
         "Y80_MAX",
         "5.7 p"
        ],
        [
         "EU27_2020",
         "Y80_MAX",
         "5.8 p"
        ],
        [
         "EU28",
         "Y80_MAX",
         "5.7 p"
        ],
        [
         "FI",
         "Y80_MAX",
         "5.5 "
        ],
        [
         "FR",
         "Y80_MAX",
         "6.1 p"
        ],
        [
         "FX",
         "Y80_MAX",
         ": "
        ],
        [
         "GE",
         "Y80_MAX",
         "3.5 "
        ],
        [
         "HR",
         "Y80_MAX",
         "5.3 "
        ],
        [
         "HU",
         "Y80_MAX",
         "4.4 "
        ],
        [
         "IE",
         "Y80_MAX",
         "3.3 e"
        ],
        [
         "IS",
         "Y80_MAX",
         "3.5 "
        ],
        [
         "IT",
         "Y80_MAX",
         "7.2 "
        ],
        [
         "LI",
         "Y80_MAX",
         "3.8 "
        ],
        [
         "LT",
         "Y80_MAX",
         "5.8 "
        ],
        [
         "LU",
         "Y80_MAX",
         "4.0 "
        ],
        [
         "LV",
         "Y80_MAX",
         "5.6 "
        ],
        [
         "MD",
         "Y80_MAX",
         ": "
        ],
        [
         "ME",
         "Y80_MAX",
         "3.3 "
        ],
        [
         "MK",
         "Y80_MAX",
         "2.5 "
        ],
        [
         "MT",
         "Y80_MAX",
         "4.2 "
        ],
        [
         "NL",
         "Y80_MAX",
         "4.6 "
        ],
        [
         "NO",
         "Y80_MAX",
         "4.2 "
        ],
        [
         "PL",
         "Y80_MAX",
         "4.4 "
        ],
        [
         "PT",
         "Y80_MAX",
         "6.4 "
        ],
        [
         "RO",
         "Y80_MAX",
         "4.7 "
        ],
        [
         "RS",
         "Y80_MAX",
         "4.6 "
        ],
        [
         "RU",
         "Y80_MAX",
         ": "
        ],
        [
         "SE",
         "Y80_MAX",
         "5.1 "
        ],
        [
         "SI",
         "Y80_MAX",
         "5.3 "
        ],
        [
         "SK",
         "Y80_MAX",
         "3.3 "
        ],
        [
         "SM",
         "Y80_MAX",
         ": "
        ],
        [
         "TR",
         "Y80_MAX",
         "1.8 "
        ],
        [
         "UA",
         "Y80_MAX",
         "4.3 "
        ],
        [
         "UK",
         "Y80_MAX",
         "5.0 "
        ],
        [
         "XK",
         "Y80_MAX",
         "1.8 "
        ]
       ],
       "datasetInfos": [],
       "dbfsResultPath": null,
       "isJsonSchema": true,
       "metadata": {},
       "overflow": false,
       "plotOptions": {
        "customPlotOptions": {},
        "displayType": "table",
        "pivotAggregation": null,
        "pivotColumns": null,
        "xColumns": null,
        "yColumns": null
       },
       "removedWidgets": [],
       "schema": [
        {
         "metadata": "{}",
         "name": "country_code",
         "type": "\"string\""
        },
        {
         "metadata": "{}",
         "name": "age_group",
         "type": "\"string\""
        },
        {
         "metadata": "{}",
         "name": "percentage_2019",
         "type": "\"string\""
        }
       ],
       "type": "table"
      }
     },
     "output_type": "display_data"
    }
   ],
   "source": [
    "display(raw_population)"
   ]
  },
  {
   "cell_type": "code",
   "execution_count": 0,
   "metadata": {
    "application/vnd.databricks.v1+cell": {
     "cellMetadata": {
      "byteLimit": 2048000,
      "rowLimit": 10000
     },
     "inputWidgets": {},
     "nuid": "87805107-c03f-4f00-b1e4-bcc53bf029bc",
     "showTitle": false,
     "title": ""
    }
   },
   "outputs": [
    {
     "output_type": "display_data",
     "data": {
      "text/html": [
       "<style scoped>\n",
       "  .table-result-container {\n",
       "    max-height: 300px;\n",
       "    overflow: auto;\n",
       "  }\n",
       "  table, th, td {\n",
       "    border: 1px solid black;\n",
       "    border-collapse: collapse;\n",
       "  }\n",
       "  th, td {\n",
       "    padding: 5px;\n",
       "  }\n",
       "  th {\n",
       "    text-align: left;\n",
       "  }\n",
       "</style><div class='table-result-container'><table class='table-result'><thead style='background-color: white'><tr><th>country_code</th><th>Y0_14</th><th>Y15_24</th><th>Y25_49</th><th>Y50_64</th><th>Y65_79</th><th>Y80_MAX</th></tr></thead><tbody><tr><td>AD</td><td>13.90</td><td>10.60</td><td>39.40</td><td>22.50</td><td>10.20</td><td>3.40</td></tr><tr><td>AL</td><td>17.20</td><td>15.50</td><td>33.00</td><td>20.20</td><td>11.40</td><td>2.70</td></tr><tr><td>AM</td><td>20.20</td><td>11.80</td><td>36.90</td><td>19.10</td><td>9.00</td><td>3.00</td></tr><tr><td>AT</td><td>14.40</td><td>10.90</td><td>34.00</td><td>21.70</td><td>13.80</td><td>5.00</td></tr><tr><td>AZ</td><td>22.40</td><td>14.10</td><td>39.10</td><td>17.60</td><td>5.30</td><td>1.50</td></tr><tr><td>BE</td><td>16.90</td><td>11.40</td><td>32.70</td><td>20.10</td><td>13.30</td><td>5.60</td></tr><tr><td>BG</td><td>14.40</td><td>8.90</td><td>35.00</td><td>20.40</td><td>16.50</td><td>4.80</td></tr><tr><td>BY</td><td>16.90</td><td>9.90</td><td>36.60</td><td>21.30</td><td>11.30</td><td>3.90</td></tr><tr><td>CH</td><td>15.00</td><td>10.60</td><td>35.00</td><td>20.90</td><td>13.30</td><td>5.20</td></tr><tr><td>CY</td><td>16.10</td><td>12.80</td><td>37.10</td><td>17.90</td><td>12.50</td><td>3.70</td></tr><tr><td>CZ</td><td>15.90</td><td>9.10</td><td>36.70</td><td>18.80</td><td>15.50</td><td>4.10</td></tr><tr><td>DE</td><td>13.60</td><td>10.40</td><td>31.60</td><td>22.80</td><td>15.10</td><td>6.50</td></tr><tr><td>DK</td><td>16.50</td><td>12.60</td><td>31.70</td><td>19.60</td><td>15.00</td><td>4.50</td></tr><tr><td>EE</td><td>16.40</td><td>9.50</td><td>34.90</td><td>19.40</td><td>14.10</td><td>5.60</td></tr><tr><td>EL</td><td>14.30</td><td>10.20</td><td>33.10</td><td>20.30</td><td>14.90</td><td>7.10</td></tr><tr><td>ES</td><td>14.80</td><td>9.80</td><td>35.30</td><td>20.70</td><td>13.30</td><td>6.10</td></tr><tr><td>FI</td><td>16.00</td><td>11.20</td><td>31.20</td><td>19.90</td><td>16.30</td><td>5.50</td></tr><tr><td>FR</td><td>18.00</td><td>11.70</td><td>31.00</td><td>19.20</td><td>14.00</td><td>6.10</td></tr><tr><td>FX</td><td>null</td><td>null</td><td>null</td><td>null</td><td>null</td><td>null</td></tr><tr><td>GE</td><td>20.30</td><td>11.50</td><td>33.90</td><td>19.50</td><td>11.40</td><td>3.50</td></tr><tr><td>HR</td><td>14.40</td><td>10.90</td><td>32.50</td><td>21.60</td><td>15.20</td><td>5.30</td></tr><tr><td>HU</td><td>14.50</td><td>10.70</td><td>35.80</td><td>19.60</td><td>14.90</td><td>4.40</td></tr><tr><td>IE</td><td>20.50</td><td>12.60</td><td>35.60</td><td>17.20</td><td>10.80</td><td>3.30</td></tr><tr><td>IS</td><td>19.00</td><td>13.40</td><td>35.50</td><td>17.90</td><td>10.70</td><td>3.50</td></tr><tr><td>IT</td><td>13.20</td><td>9.80</td><td>32.40</td><td>21.90</td><td>15.70</td><td>7.20</td></tr><tr><td>LI</td><td>14.70</td><td>10.90</td><td>33.30</td><td>23.20</td><td>14.10</td><td>3.80</td></tr><tr><td>LT</td><td>15.10</td><td>10.50</td><td>32.70</td><td>21.90</td><td>14.00</td><td>5.80</td></tr><tr><td>LU</td><td>16.10</td><td>11.60</td><td>38.20</td><td>19.80</td><td>10.40</td><td>4.00</td></tr><tr><td>LV</td><td>15.90</td><td>9.20</td><td>33.80</td><td>20.90</td><td>14.70</td><td>5.60</td></tr><tr><td>MD</td><td>null</td><td>null</td><td>null</td><td>null</td><td>null</td><td>null</td></tr><tr><td>ME</td><td>18.00</td><td>13.00</td><td>34.20</td><td>19.80</td><td>11.90</td><td>3.30</td></tr><tr><td>MK</td><td>16.40</td><td>12.40</td><td>37.50</td><td>19.70</td><td>11.50</td><td>2.50</td></tr><tr><td>MT</td><td>13.70</td><td>11.00</td><td>38.50</td><td>18.20</td><td>14.50</td><td>4.20</td></tr><tr><td>NL</td><td>15.90</td><td>12.30</td><td>31.80</td><td>20.90</td><td>14.60</td><td>4.60</td></tr><tr><td>NO</td><td>17.50</td><td>12.40</td><td>34.10</td><td>18.70</td><td>13.00</td><td>4.20</td></tr><tr><td>PL</td><td>15.40</td><td>10.30</td><td>37.00</td><td>19.70</td><td>13.30</td><td>4.40</td></tr><tr><td>PT</td><td>13.70</td><td>10.60</td><td>32.90</td><td>20.90</td><td>15.40</td><td>6.40</td></tr><tr><td>RO</td><td>15.70</td><td>10.60</td><td>35.60</td><td>19.70</td><td>13.90</td><td>4.70</td></tr><tr><td>RS</td><td>14.30</td><td>10.50</td><td>33.80</td><td>20.90</td><td>15.80</td><td>4.60</td></tr><tr><td>RU</td><td>null</td><td>null</td><td>null</td><td>null</td><td>null</td><td>null</td></tr><tr><td>SE</td><td>17.80</td><td>11.30</td><td>32.90</td><td>18.10</td><td>14.80</td><td>5.10</td></tr><tr><td>SI</td><td>15.10</td><td>9.40</td><td>34.10</td><td>21.60</td><td>14.50</td><td>5.30</td></tr><tr><td>SK</td><td>15.70</td><td>10.40</td><td>38.10</td><td>19.70</td><td>12.70</td><td>3.30</td></tr><tr><td>SM</td><td>null</td><td>null</td><td>null</td><td>null</td><td>null</td><td>null</td></tr><tr><td>TR</td><td>23.40</td><td>15.80</td><td>37.00</td><td>15.00</td><td>7.00</td><td>1.80</td></tr><tr><td>UA</td><td>15.40</td><td>9.60</td><td>37.60</td><td>20.60</td><td>12.50</td><td>4.30</td></tr><tr><td>UK</td><td>17.90</td><td>11.80</td><td>32.80</td><td>19.10</td><td>13.40</td><td>5.00</td></tr><tr><td>XK</td><td>24.40</td><td>17.80</td><td>35.20</td><td>14.10</td><td>6.80</td><td>1.80</td></tr></tbody></table></div>"
      ]
     },
     "metadata": {
      "application/vnd.databricks.v1+output": {
       "addedWidgets": {},
       "aggData": [],
       "aggError": "",
       "aggOverflow": false,
       "aggSchema": [],
       "aggSeriesLimitReached": false,
       "aggType": "",
       "arguments": {},
       "columnCustomDisplayInfos": {},
       "data": [
        [
         "AD",
         "13.90",
         "10.60",
         "39.40",
         "22.50",
         "10.20",
         "3.40"
        ],
        [
         "AL",
         "17.20",
         "15.50",
         "33.00",
         "20.20",
         "11.40",
         "2.70"
        ],
        [
         "AM",
         "20.20",
         "11.80",
         "36.90",
         "19.10",
         "9.00",
         "3.00"
        ],
        [
         "AT",
         "14.40",
         "10.90",
         "34.00",
         "21.70",
         "13.80",
         "5.00"
        ],
        [
         "AZ",
         "22.40",
         "14.10",
         "39.10",
         "17.60",
         "5.30",
         "1.50"
        ],
        [
         "BE",
         "16.90",
         "11.40",
         "32.70",
         "20.10",
         "13.30",
         "5.60"
        ],
        [
         "BG",
         "14.40",
         "8.90",
         "35.00",
         "20.40",
         "16.50",
         "4.80"
        ],
        [
         "BY",
         "16.90",
         "9.90",
         "36.60",
         "21.30",
         "11.30",
         "3.90"
        ],
        [
         "CH",
         "15.00",
         "10.60",
         "35.00",
         "20.90",
         "13.30",
         "5.20"
        ],
        [
         "CY",
         "16.10",
         "12.80",
         "37.10",
         "17.90",
         "12.50",
         "3.70"
        ],
        [
         "CZ",
         "15.90",
         "9.10",
         "36.70",
         "18.80",
         "15.50",
         "4.10"
        ],
        [
         "DE",
         "13.60",
         "10.40",
         "31.60",
         "22.80",
         "15.10",
         "6.50"
        ],
        [
         "DK",
         "16.50",
         "12.60",
         "31.70",
         "19.60",
         "15.00",
         "4.50"
        ],
        [
         "EE",
         "16.40",
         "9.50",
         "34.90",
         "19.40",
         "14.10",
         "5.60"
        ],
        [
         "EL",
         "14.30",
         "10.20",
         "33.10",
         "20.30",
         "14.90",
         "7.10"
        ],
        [
         "ES",
         "14.80",
         "9.80",
         "35.30",
         "20.70",
         "13.30",
         "6.10"
        ],
        [
         "FI",
         "16.00",
         "11.20",
         "31.20",
         "19.90",
         "16.30",
         "5.50"
        ],
        [
         "FR",
         "18.00",
         "11.70",
         "31.00",
         "19.20",
         "14.00",
         "6.10"
        ],
        [
         "FX",
         null,
         null,
         null,
         null,
         null,
         null
        ],
        [
         "GE",
         "20.30",
         "11.50",
         "33.90",
         "19.50",
         "11.40",
         "3.50"
        ],
        [
         "HR",
         "14.40",
         "10.90",
         "32.50",
         "21.60",
         "15.20",
         "5.30"
        ],
        [
         "HU",
         "14.50",
         "10.70",
         "35.80",
         "19.60",
         "14.90",
         "4.40"
        ],
        [
         "IE",
         "20.50",
         "12.60",
         "35.60",
         "17.20",
         "10.80",
         "3.30"
        ],
        [
         "IS",
         "19.00",
         "13.40",
         "35.50",
         "17.90",
         "10.70",
         "3.50"
        ],
        [
         "IT",
         "13.20",
         "9.80",
         "32.40",
         "21.90",
         "15.70",
         "7.20"
        ],
        [
         "LI",
         "14.70",
         "10.90",
         "33.30",
         "23.20",
         "14.10",
         "3.80"
        ],
        [
         "LT",
         "15.10",
         "10.50",
         "32.70",
         "21.90",
         "14.00",
         "5.80"
        ],
        [
         "LU",
         "16.10",
         "11.60",
         "38.20",
         "19.80",
         "10.40",
         "4.00"
        ],
        [
         "LV",
         "15.90",
         "9.20",
         "33.80",
         "20.90",
         "14.70",
         "5.60"
        ],
        [
         "MD",
         null,
         null,
         null,
         null,
         null,
         null
        ],
        [
         "ME",
         "18.00",
         "13.00",
         "34.20",
         "19.80",
         "11.90",
         "3.30"
        ],
        [
         "MK",
         "16.40",
         "12.40",
         "37.50",
         "19.70",
         "11.50",
         "2.50"
        ],
        [
         "MT",
         "13.70",
         "11.00",
         "38.50",
         "18.20",
         "14.50",
         "4.20"
        ],
        [
         "NL",
         "15.90",
         "12.30",
         "31.80",
         "20.90",
         "14.60",
         "4.60"
        ],
        [
         "NO",
         "17.50",
         "12.40",
         "34.10",
         "18.70",
         "13.00",
         "4.20"
        ],
        [
         "PL",
         "15.40",
         "10.30",
         "37.00",
         "19.70",
         "13.30",
         "4.40"
        ],
        [
         "PT",
         "13.70",
         "10.60",
         "32.90",
         "20.90",
         "15.40",
         "6.40"
        ],
        [
         "RO",
         "15.70",
         "10.60",
         "35.60",
         "19.70",
         "13.90",
         "4.70"
        ],
        [
         "RS",
         "14.30",
         "10.50",
         "33.80",
         "20.90",
         "15.80",
         "4.60"
        ],
        [
         "RU",
         null,
         null,
         null,
         null,
         null,
         null
        ],
        [
         "SE",
         "17.80",
         "11.30",
         "32.90",
         "18.10",
         "14.80",
         "5.10"
        ],
        [
         "SI",
         "15.10",
         "9.40",
         "34.10",
         "21.60",
         "14.50",
         "5.30"
        ],
        [
         "SK",
         "15.70",
         "10.40",
         "38.10",
         "19.70",
         "12.70",
         "3.30"
        ],
        [
         "SM",
         null,
         null,
         null,
         null,
         null,
         null
        ],
        [
         "TR",
         "23.40",
         "15.80",
         "37.00",
         "15.00",
         "7.00",
         "1.80"
        ],
        [
         "UA",
         "15.40",
         "9.60",
         "37.60",
         "20.60",
         "12.50",
         "4.30"
        ],
        [
         "UK",
         "17.90",
         "11.80",
         "32.80",
         "19.10",
         "13.40",
         "5.00"
        ],
        [
         "XK",
         "24.40",
         "17.80",
         "35.20",
         "14.10",
         "6.80",
         "1.80"
        ]
       ],
       "datasetInfos": [],
       "dbfsResultPath": null,
       "isJsonSchema": true,
       "metadata": {},
       "overflow": false,
       "plotOptions": {
        "customPlotOptions": {},
        "displayType": "table",
        "pivotAggregation": null,
        "pivotColumns": null,
        "xColumns": null,
        "yColumns": null
       },
       "removedWidgets": [],
       "schema": [
        {
         "metadata": "{}",
         "name": "country_code",
         "type": "\"string\""
        },
        {
         "metadata": "{}",
         "name": "Y0_14",
         "type": "\"decimal(14,2)\""
        },
        {
         "metadata": "{}",
         "name": "Y15_24",
         "type": "\"decimal(14,2)\""
        },
        {
         "metadata": "{}",
         "name": "Y25_49",
         "type": "\"decimal(14,2)\""
        },
        {
         "metadata": "{}",
         "name": "Y50_64",
         "type": "\"decimal(14,2)\""
        },
        {
         "metadata": "{}",
         "name": "Y65_79",
         "type": "\"decimal(14,2)\""
        },
        {
         "metadata": "{}",
         "name": "Y80_MAX",
         "type": "\"decimal(14,2)\""
        }
       ],
       "type": "table"
      }
     },
     "output_type": "display_data"
    }
   ],
   "source": [
    "display(raw_population_pivot)"
   ]
  },
  {
   "cell_type": "markdown",
   "metadata": {
    "application/vnd.databricks.v1+cell": {
     "cellMetadata": {},
     "inputWidgets": {},
     "nuid": "8b240851-2345-4adc-9bb0-a9b8349dc713",
     "showTitle": false,
     "title": ""
    }
   },
   "source": [
    "## Read the country lookup"
   ]
  },
  {
   "cell_type": "code",
   "execution_count": 0,
   "metadata": {
    "application/vnd.databricks.v1+cell": {
     "cellMetadata": {
      "byteLimit": 2048000,
      "rowLimit": 10000
     },
     "inputWidgets": {},
     "nuid": "1462954e-2d94-46bd-b20a-a207c3f18ea1",
     "showTitle": false,
     "title": ""
    }
   },
   "outputs": [],
   "source": [
    "# Create a data frame for the country lookup\n",
    "\n",
    "df_dim_country.createOrReplaceTempView(\"dim_country\")"
   ]
  },
  {
   "cell_type": "markdown",
   "metadata": {
    "application/vnd.databricks.v1+cell": {
     "cellMetadata": {
      "byteLimit": 2048000,
      "rowLimit": 10000
     },
     "inputWidgets": {},
     "nuid": "23d34adb-81fc-450e-99de-b65643c6f34f",
     "showTitle": false,
     "title": ""
    }
   },
   "source": [
    "## Join population data with country lookup"
   ]
  },
  {
   "cell_type": "code",
   "execution_count": 0,
   "metadata": {
    "application/vnd.databricks.v1+cell": {
     "cellMetadata": {
      "byteLimit": 2048000,
      "rowLimit": 10000
     },
     "inputWidgets": {},
     "nuid": "2243630d-21f2-407f-85cd-234c6d04c09d",
     "showTitle": false,
     "title": ""
    }
   },
   "outputs": [],
   "source": [
    "df_transformed_population = spark.sql(\"\"\"SELECT c.country,\n",
    "       c.country_code_2_digit,\n",
    "       c.country_code_3_digit,\n",
    "       c.population,\n",
    "       p.Y0_14  AS age_group_0_14,\n",
    "       p.Y15_24 AS age_group_15_24,\n",
    "       p.Y25_49 AS age_group_25_49,\n",
    "       p.Y50_64 AS age_group_50_64, \n",
    "       p.Y65_79 AS age_group_65_79,\n",
    "       p.Y80_MAX AS age_group_80_max\n",
    "  FROM raw_population_pivot p\n",
    "  JOIN dim_country c ON p.country_code = country_code_2_digit\n",
    " ORDER BY country\"\"\")"
   ]
  },
  {
   "cell_type": "code",
   "execution_count": 0,
   "metadata": {
    "application/vnd.databricks.v1+cell": {
     "cellMetadata": {
      "byteLimit": 2048000,
      "rowLimit": 10000
     },
     "inputWidgets": {},
     "nuid": "3607f497-05f6-44c9-96df-48a238aee984",
     "showTitle": false,
     "title": ""
    }
   },
   "outputs": [
    {
     "output_type": "display_data",
     "data": {
      "text/html": [
       "<style scoped>\n",
       "  .table-result-container {\n",
       "    max-height: 300px;\n",
       "    overflow: auto;\n",
       "  }\n",
       "  table, th, td {\n",
       "    border: 1px solid black;\n",
       "    border-collapse: collapse;\n",
       "  }\n",
       "  th, td {\n",
       "    padding: 5px;\n",
       "  }\n",
       "  th {\n",
       "    text-align: left;\n",
       "  }\n",
       "</style><div class='table-result-container'><table class='table-result'><thead style='background-color: white'><tr><th>country</th><th>country_code_2_digit</th><th>country_code_3_digit</th><th>population</th><th>age_group_0_14</th><th>age_group_15_24</th><th>age_group_25_49</th><th>age_group_50_64</th><th>age_group_65_79</th><th>age_group_80_max</th></tr></thead><tbody><tr><td>Albania</td><td>AL</td><td>ALB</td><td>2862427</td><td>17.200000000000000000</td><td>15.500000000000000000</td><td>33.000000000000000000</td><td>20.200000000000000000</td><td>11.400000000000000000</td><td>2.700000000000000000</td></tr><tr><td>Andorra</td><td>AD</td><td>AND</td><td>76177</td><td>13.900000000000000000</td><td>10.600000000000000000</td><td>39.400000000000000000</td><td>22.500000000000000000</td><td>10.200000000000000000</td><td>3.400000000000000000</td></tr><tr><td>Armenia</td><td>AM</td><td>ARM</td><td>2963234</td><td>20.200000000000000000</td><td>11.800000000000000000</td><td>36.900000000000000000</td><td>19.100000000000000000</td><td>9.000000000000000000</td><td>3.000000000000000000</td></tr><tr><td>Austria</td><td>AT</td><td>AUT</td><td>8858775</td><td>14.400000000000000000</td><td>10.900000000000000000</td><td>34.000000000000000000</td><td>21.700000000000000000</td><td>13.800000000000000000</td><td>5.000000000000000000</td></tr><tr><td>Azerbaijan</td><td>AZ</td><td>AZE</td><td>10139175</td><td>22.400000000000000000</td><td>14.100000000000000000</td><td>39.100000000000000000</td><td>17.600000000000000000</td><td>5.300000000000000000</td><td>1.500000000000000000</td></tr><tr><td>Belarus</td><td>BY</td><td>BLR</td><td>9449321</td><td>16.900000000000000000</td><td>9.900000000000000000</td><td>36.600000000000000000</td><td>21.300000000000000000</td><td>11.300000000000000000</td><td>3.900000000000000000</td></tr><tr><td>Belgium</td><td>BE</td><td>BEL</td><td>11455519</td><td>16.900000000000000000</td><td>11.400000000000000000</td><td>32.700000000000000000</td><td>20.100000000000000000</td><td>13.300000000000000000</td><td>5.600000000000000000</td></tr><tr><td>Bulgaria</td><td>BG</td><td>BGR</td><td>7000039</td><td>14.400000000000000000</td><td>8.900000000000000000</td><td>35.000000000000000000</td><td>20.400000000000000000</td><td>16.500000000000000000</td><td>4.800000000000000000</td></tr><tr><td>Croatia</td><td>HR</td><td>HRV</td><td>4076246</td><td>14.400000000000000000</td><td>10.900000000000000000</td><td>32.500000000000000000</td><td>21.600000000000000000</td><td>15.200000000000000000</td><td>5.300000000000000000</td></tr><tr><td>Cyprus</td><td>CY</td><td>CYP</td><td>875899</td><td>16.100000000000000000</td><td>12.800000000000000000</td><td>37.100000000000000000</td><td>17.900000000000000000</td><td>12.500000000000000000</td><td>3.700000000000000000</td></tr></tbody></table></div>"
      ]
     },
     "metadata": {
      "application/vnd.databricks.v1+output": {
       "addedWidgets": {},
       "aggData": [],
       "aggError": "",
       "aggOverflow": false,
       "aggSchema": [],
       "aggSeriesLimitReached": false,
       "aggType": "",
       "arguments": {},
       "columnCustomDisplayInfos": {},
       "data": [
        [
         "Albania",
         "AL",
         "ALB",
         "2862427",
         "17.200000000000000000",
         "15.500000000000000000",
         "33.000000000000000000",
         "20.200000000000000000",
         "11.400000000000000000",
         "2.700000000000000000"
        ],
        [
         "Andorra",
         "AD",
         "AND",
         "76177",
         "13.900000000000000000",
         "10.600000000000000000",
         "39.400000000000000000",
         "22.500000000000000000",
         "10.200000000000000000",
         "3.400000000000000000"
        ],
        [
         "Armenia",
         "AM",
         "ARM",
         "2963234",
         "20.200000000000000000",
         "11.800000000000000000",
         "36.900000000000000000",
         "19.100000000000000000",
         "9.000000000000000000",
         "3.000000000000000000"
        ],
        [
         "Austria",
         "AT",
         "AUT",
         "8858775",
         "14.400000000000000000",
         "10.900000000000000000",
         "34.000000000000000000",
         "21.700000000000000000",
         "13.800000000000000000",
         "5.000000000000000000"
        ],
        [
         "Azerbaijan",
         "AZ",
         "AZE",
         "10139175",
         "22.400000000000000000",
         "14.100000000000000000",
         "39.100000000000000000",
         "17.600000000000000000",
         "5.300000000000000000",
         "1.500000000000000000"
        ],
        [
         "Belarus",
         "BY",
         "BLR",
         "9449321",
         "16.900000000000000000",
         "9.900000000000000000",
         "36.600000000000000000",
         "21.300000000000000000",
         "11.300000000000000000",
         "3.900000000000000000"
        ],
        [
         "Belgium",
         "BE",
         "BEL",
         "11455519",
         "16.900000000000000000",
         "11.400000000000000000",
         "32.700000000000000000",
         "20.100000000000000000",
         "13.300000000000000000",
         "5.600000000000000000"
        ],
        [
         "Bulgaria",
         "BG",
         "BGR",
         "7000039",
         "14.400000000000000000",
         "8.900000000000000000",
         "35.000000000000000000",
         "20.400000000000000000",
         "16.500000000000000000",
         "4.800000000000000000"
        ],
        [
         "Croatia",
         "HR",
         "HRV",
         "4076246",
         "14.400000000000000000",
         "10.900000000000000000",
         "32.500000000000000000",
         "21.600000000000000000",
         "15.200000000000000000",
         "5.300000000000000000"
        ],
        [
         "Cyprus",
         "CY",
         "CYP",
         "875899",
         "16.100000000000000000",
         "12.800000000000000000",
         "37.100000000000000000",
         "17.900000000000000000",
         "12.500000000000000000",
         "3.700000000000000000"
        ]
       ],
       "datasetInfos": [],
       "dbfsResultPath": null,
       "isJsonSchema": true,
       "metadata": {},
       "overflow": false,
       "plotOptions": {
        "customPlotOptions": {},
        "displayType": "table",
        "pivotAggregation": null,
        "pivotColumns": null,
        "xColumns": null,
        "yColumns": null
       },
       "removedWidgets": [],
       "schema": [
        {
         "metadata": "{}",
         "name": "country",
         "type": "\"string\""
        },
        {
         "metadata": "{}",
         "name": "country_code_2_digit",
         "type": "\"string\""
        },
        {
         "metadata": "{}",
         "name": "country_code_3_digit",
         "type": "\"string\""
        },
        {
         "metadata": "{}",
         "name": "population",
         "type": "\"string\""
        },
        {
         "metadata": "{}",
         "name": "age_group_0_14",
         "type": "\"decimal(38,18)\""
        },
        {
         "metadata": "{}",
         "name": "age_group_15_24",
         "type": "\"decimal(38,18)\""
        },
        {
         "metadata": "{}",
         "name": "age_group_25_49",
         "type": "\"decimal(38,18)\""
        },
        {
         "metadata": "{}",
         "name": "age_group_50_64",
         "type": "\"decimal(38,18)\""
        },
        {
         "metadata": "{}",
         "name": "age_group_65_79",
         "type": "\"decimal(38,18)\""
        },
        {
         "metadata": "{}",
         "name": "age_group_80_max",
         "type": "\"decimal(38,18)\""
        }
       ],
       "type": "table"
      }
     },
     "output_type": "display_data"
    }
   ],
   "source": [
    "display(df_transformed_population.head(10))"
   ]
  },
  {
   "cell_type": "markdown",
   "metadata": {
    "application/vnd.databricks.v1+cell": {
     "cellMetadata": {},
     "inputWidgets": {},
     "nuid": "2a4586af-bcbc-46a0-bc39-8defb2c1b1e3",
     "showTitle": false,
     "title": ""
    }
   },
   "source": [
    "## Write output to the processed mount point"
   ]
  },
  {
   "cell_type": "code",
   "execution_count": 0,
   "metadata": {
    "application/vnd.databricks.v1+cell": {
     "cellMetadata": {
      "byteLimit": 2048000,
      "rowLimit": 10000
     },
     "inputWidgets": {},
     "nuid": "4e7ccaf9-a179-431f-8640-3b7417322a32",
     "showTitle": false,
     "title": ""
    }
   },
   "outputs": [],
   "source": [
    "processed_population_output_file = \"transformed_population.csv\""
   ]
  },
  {
   "cell_type": "code",
   "execution_count": 0,
   "metadata": {
    "application/vnd.databricks.v1+cell": {
     "cellMetadata": {
      "byteLimit": 2048000,
      "rowLimit": 10000
     },
     "inputWidgets": {},
     "nuid": "7b343ca7-160c-4874-9929-70f3368adeb0",
     "showTitle": false,
     "title": ""
    }
   },
   "outputs": [],
   "source": [
    "df_transformed_population.coalesce(1).write.format(\"com.databricks.spark.csv\").option(\"header\",\"true\").option(\"delimiter\", \",\").mode(\"overwrite\").save(f\"abfss://{container_name_3}@{storage_account_name}.dfs.core.windows.net/{processed_population_output_file}\")\n",
    "     "
   ]
  }
 ],
 "metadata": {
  "application/vnd.databricks.v1+notebook": {
   "dashboards": [],
   "environmentMetadata": {
    "base_environment": "",
    "client": "1"
   },
   "language": "python",
   "notebookMetadata": {
    "pythonIndentUnit": 4
   },
   "notebookName": "mount_storage",
   "widgets": {}
  }
 },
 "nbformat": 4,
 "nbformat_minor": 0
}
